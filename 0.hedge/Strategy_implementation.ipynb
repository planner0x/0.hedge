{
 "cells": [
  {
   "cell_type": "markdown",
   "metadata": {},
   "source": [
    "Purpose\n",
    "-------\n",
    "\n",
    "The purpose of this notebook is to identify and discuss the implementation of a quantitative trading strategy"
   ]
  },
  {
   "cell_type": "markdown",
   "metadata": {},
   "source": [
    "Data Acquisition\n",
    "----------------\n",
    "\n",
    "1. Create a system that periodically makes API calls to update price information\n",
    "\n",
    "\n",
    "Data Retrieval\n",
    "-------------\n",
    "\n",
    "1. Create functions and data structures that help index, access and organize price data"
   ]
  },
  {
   "cell_type": "markdown",
   "metadata": {},
   "source": [
    "Strategy Setup\n",
    "--------------\n",
    "\n",
    "1. Identify a basket of statistics that provide information on price behavior\n",
    "2. Build functions to periodically estimate these statistics and associate them with assets, pairs or baskets of assets\n",
    "3. Setup a machine learning pipeline that can treat these statistics as features on individual assets, pairs or baskets of assets\n",
    "4. Evaluate the utility of certain features ans strategies with backtest"
   ]
  },
  {
   "cell_type": "markdown",
   "metadata": {},
   "source": [
    "Trading Strategy\n",
    "----------------\n",
    "\n",
    "1. Paper trade for one week with the strategy and evaluate how effective back-testing is\n",
    "2. If back-testing strategies don't work study the sources of this problem\n",
    "3. If back-testing strategies seem to work, set up restrictions to limit your loss on any given trade\n",
    "4. Understand the drawdown behavior of your strategy so you have some expectation and understanding\n",
    "5. Eliminate strategies that result in monthly drawdowns greater than 5% of investible portfolio\n",
    "6. Eliminate strategies that result in daily drawdowns of greater than 2% of investible portfolio\n",
    "7. If strategy exhibits time decay, study the window of decay to understand how trading fees will affect the strategy"
   ]
  },
  {
   "cell_type": "code",
   "execution_count": null,
   "metadata": {
    "collapsed": true
   },
   "outputs": [],
   "source": []
  }
 ],
 "metadata": {
  "kernelspec": {
   "display_name": "Python 3",
   "language": "python",
   "name": "python3"
  },
  "language_info": {
   "codemirror_mode": {
    "name": "ipython",
    "version": 3
   },
   "file_extension": ".py",
   "mimetype": "text/x-python",
   "name": "python",
   "nbconvert_exporter": "python",
   "pygments_lexer": "ipython3",
   "version": "3.6.6"
  }
 },
 "nbformat": 4,
 "nbformat_minor": 2
}
