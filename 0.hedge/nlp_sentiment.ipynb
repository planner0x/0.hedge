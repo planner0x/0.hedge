{
 "cells": [
  {
   "cell_type": "markdown",
   "metadata": {},
   "source": [
    "##Justin Simcock\n",
    "\n",
    "Design decisions\n",
    "#################\n",
    "\n",
    "Honestly, this is my first time using sql for a 'real' project. While I've done some online tutorials, I'm unfamiliar with sql io issues. I knew I was going to use pandas and I saw that pandas has a `to_sql` method so I decided to use this. This was extremely slow. So I googled around and I see that these types of insertions are also extremely memory intensive. I ended up using the code snippet here: https://github.com/pandas-dev/pandas/issues/8953. It seemed to speed things up a little. I did time this operation and It took 696 seconds. I actually had to run this three times because I found the errors in the data.  \n",
    "\n",
    "\n",
    "I found there is a library called `odo`. According to github, this is a very fast way of loading data from csv into an sql table. I want to give this a try. \n",
    "\n",
    "\n",
    "Vendor questions\n",
    "################\n",
    "\n",
    "What is positive? \n",
    "\n",
    "How is positive computed?\n",
    "\n",
    "Is negative 1 - positive? \n",
    "\n",
    "We see tweets so we presume this is twitter. Are there other sources used to compute sentiment? \n",
    "\n",
    "Does sentiment have memory? Does the value of yesterday's sentiment affect todays calculation? \n",
    "\n",
    "Is it one source one vote? Do some data sources have higher weight? \n",
    "\n",
    "For twitter, do individual accounts have higher weight? \n",
    "\n",
    "How does volumne of content affect the sentiment? Are 50 bullish tweets worth more than one bearish analyst report? \n",
    "\n",
    "What about images? How are images handled in the sentiment? \n",
    "\n",
    "\n",
    "#data quality issues\n",
    "####################\n",
    "\n",
    "misspelling of date columns: assign new column names to all the sms dataframes. \n",
    "\n",
    "dates have different dtypes in different files, need to parse date to convert to date-like object\n",
    "\n",
    "extra spaces in ticker symbols: strip ticker symbols of extra white spaces\n",
    "\n",
    "date as datetime: cast dates as datetime objects so we can align merge on common/valid dtype entries\n",
    "\n",
    "tweets: some tweets are nan\n",
    "\n",
    "Month 11 of sms data has an extra column of unlabeled strings and floats of '0' values.\n",
    "\n",
    "Sentiment is not normalized to any meaningful range. In some months its a float in range [0,1] and others its an integer greater than zero. \n",
    "\n",
    "\n",
    "There are 961410 entries into the db. There are however, 2681 securities and 252 trading days/year which gives you around ~670000 possible entries. So I've done this wrong, although I am able to query securities\n",
    "\n",
    "\n"
   ]
  },
  {
   "cell_type": "code",
   "execution_count": 260,
   "metadata": {},
   "outputs": [],
   "source": [
    "from pandas.io.sql import SQLTable\n",
    "\n",
    "def _execute_insert(self, conn, keys, data_iter):\n",
    "    print(\"Using monkey-patched _execute_insert\")\n",
    "    data = [dict((k, v) for k, v in zip(keys, row)) for row in data_iter]\n",
    "    conn.execute(self.insert_statement().values(data))\n",
    "\n",
    "SQLTable._execute_insert = _execute_insert\n",
    "\n",
    "\n",
    "import sqlite3 as sq3\n",
    "import pandas as pd\n",
    "import numpy as np\n",
    "import csv\n"
   ]
  },
  {
   "cell_type": "code",
   "execution_count": 261,
   "metadata": {},
   "outputs": [
    {
     "data": {
      "text/plain": [
       "2681"
      ]
     },
     "execution_count": 261,
     "metadata": {},
     "output_type": "execute_result"
    }
   ],
   "source": [
    "prices = pd.read_csv('/Users/livingdharma/Downloads/data_engineering_test/price_data.csv', sep='|')\n",
    "len(prices.ticker.unique())"
   ]
  },
  {
   "cell_type": "code",
   "execution_count": 262,
   "metadata": {},
   "outputs": [
    {
     "data": {
      "text/html": [
       "<div>\n",
       "<style scoped>\n",
       "    .dataframe tbody tr th:only-of-type {\n",
       "        vertical-align: middle;\n",
       "    }\n",
       "\n",
       "    .dataframe tbody tr th {\n",
       "        vertical-align: top;\n",
       "    }\n",
       "\n",
       "    .dataframe thead th {\n",
       "        text-align: right;\n",
       "    }\n",
       "</style>\n",
       "<table border=\"1\" class=\"dataframe\">\n",
       "  <thead>\n",
       "    <tr style=\"text-align: right;\">\n",
       "      <th></th>\n",
       "      <th>ticker</th>\n",
       "      <th>date</th>\n",
       "      <th>open</th>\n",
       "      <th>high</th>\n",
       "      <th>low</th>\n",
       "      <th>close</th>\n",
       "      <th>ex-dividend</th>\n",
       "    </tr>\n",
       "  </thead>\n",
       "  <tbody>\n",
       "    <tr>\n",
       "      <th>0</th>\n",
       "      <td>A</td>\n",
       "      <td>2017-01-03</td>\n",
       "      <td>40.63</td>\n",
       "      <td>41.36</td>\n",
       "      <td>40.46</td>\n",
       "      <td>41.13</td>\n",
       "      <td>0.0</td>\n",
       "    </tr>\n",
       "    <tr>\n",
       "      <th>1</th>\n",
       "      <td>A</td>\n",
       "      <td>2017-01-04</td>\n",
       "      <td>41.52</td>\n",
       "      <td>41.91</td>\n",
       "      <td>41.41</td>\n",
       "      <td>41.67</td>\n",
       "      <td>0.0</td>\n",
       "    </tr>\n",
       "    <tr>\n",
       "      <th>2</th>\n",
       "      <td>A</td>\n",
       "      <td>2017-01-05</td>\n",
       "      <td>41.62</td>\n",
       "      <td>41.64</td>\n",
       "      <td>41.01</td>\n",
       "      <td>41.17</td>\n",
       "      <td>0.0</td>\n",
       "    </tr>\n",
       "    <tr>\n",
       "      <th>3</th>\n",
       "      <td>A</td>\n",
       "      <td>2017-01-06</td>\n",
       "      <td>41.25</td>\n",
       "      <td>42.52</td>\n",
       "      <td>41.19</td>\n",
       "      <td>42.45</td>\n",
       "      <td>0.0</td>\n",
       "    </tr>\n",
       "    <tr>\n",
       "      <th>4</th>\n",
       "      <td>A</td>\n",
       "      <td>2017-01-09</td>\n",
       "      <td>42.47</td>\n",
       "      <td>42.95</td>\n",
       "      <td>42.38</td>\n",
       "      <td>42.59</td>\n",
       "      <td>0.0</td>\n",
       "    </tr>\n",
       "  </tbody>\n",
       "</table>\n",
       "</div>"
      ],
      "text/plain": [
       "  ticker        date   open   high    low  close  ex-dividend\n",
       "0      A  2017-01-03  40.63  41.36  40.46  41.13          0.0\n",
       "1      A  2017-01-04  41.52  41.91  41.41  41.67          0.0\n",
       "2      A  2017-01-05  41.62  41.64  41.01  41.17          0.0\n",
       "3      A  2017-01-06  41.25  42.52  41.19  42.45          0.0\n",
       "4      A  2017-01-09  42.47  42.95  42.38  42.59          0.0"
      ]
     },
     "execution_count": 262,
     "metadata": {},
     "output_type": "execute_result"
    }
   ],
   "source": [
    "prices.head()"
   ]
  },
  {
   "cell_type": "code",
   "execution_count": 289,
   "metadata": {},
   "outputs": [
    {
     "data": {
      "text/html": [
       "<div>\n",
       "<style scoped>\n",
       "    .dataframe tbody tr th:only-of-type {\n",
       "        vertical-align: middle;\n",
       "    }\n",
       "\n",
       "    .dataframe tbody tr th {\n",
       "        vertical-align: top;\n",
       "    }\n",
       "\n",
       "    .dataframe thead th {\n",
       "        text-align: right;\n",
       "    }\n",
       "</style>\n",
       "<table border=\"1\" class=\"dataframe\">\n",
       "  <thead>\n",
       "    <tr style=\"text-align: right;\">\n",
       "      <th></th>\n",
       "      <th>daet</th>\n",
       "      <th>ticker</th>\n",
       "      <th>positive</th>\n",
       "      <th>tweets</th>\n",
       "    </tr>\n",
       "  </thead>\n",
       "  <tbody>\n",
       "    <tr>\n",
       "      <th>0</th>\n",
       "      <td>2017-02-01</td>\n",
       "      <td>XCOM</td>\n",
       "      <td>0.391989</td>\n",
       "      <td>116599</td>\n",
       "    </tr>\n",
       "    <tr>\n",
       "      <th>1</th>\n",
       "      <td>2017-02-01</td>\n",
       "      <td>SPX</td>\n",
       "      <td>0.341038</td>\n",
       "      <td>58019</td>\n",
       "    </tr>\n",
       "    <tr>\n",
       "      <th>2</th>\n",
       "      <td>2017-02-01</td>\n",
       "      <td>SPY</td>\n",
       "      <td>0.592295</td>\n",
       "      <td>73154</td>\n",
       "    </tr>\n",
       "    <tr>\n",
       "      <th>3</th>\n",
       "      <td>2017-02-01</td>\n",
       "      <td>SPP</td>\n",
       "      <td>0.391673</td>\n",
       "      <td>136920</td>\n",
       "    </tr>\n",
       "    <tr>\n",
       "      <th>4</th>\n",
       "      <td>2017-02-01</td>\n",
       "      <td>SPR</td>\n",
       "      <td>0.410736</td>\n",
       "      <td>786646</td>\n",
       "    </tr>\n",
       "  </tbody>\n",
       "</table>\n",
       "</div>"
      ],
      "text/plain": [
       "         daet  ticker   positive   tweets\n",
       "0  2017-02-01    XCOM   0.391989   116599\n",
       "1  2017-02-01     SPX   0.341038    58019\n",
       "2  2017-02-01     SPY   0.592295    73154\n",
       "3  2017-02-01     SPP   0.391673   136920\n",
       "4  2017-02-01     SPR   0.410736   786646"
      ]
     },
     "execution_count": 289,
     "metadata": {},
     "output_type": "execute_result"
    }
   ],
   "source": [
    "sms1 = pd.read_csv('/Users/livingdharma/Downloads/data_engineering_test/sms_data/social_media_signal_201702.csv')\n",
    "sms1.head()"
   ]
  },
  {
   "cell_type": "code",
   "execution_count": 290,
   "metadata": {},
   "outputs": [],
   "source": []
  },
  {
   "cell_type": "code",
   "execution_count": 268,
   "metadata": {},
   "outputs": [],
   "source": [
    "# SQL database is going to look like \n",
    "# Ticker: \n",
    "# Date:\n",
    "# num_tweets:\n",
    "# sentiment:\n",
    "# open:\n",
    "# low:\n",
    "# high: \n",
    "# close:\n",
    "# ex-dividend: \n",
    "\n",
    "#setting the open,close,high, low to strings since we'll have NaNs from time to time\n",
    "\n",
    "#I learn later that I can use pandas for this step but since I already did this, I'll keep it\n",
    "initialize = 'CREATE TABLE securities (date text, ticker text, positive text, tweets text, \\\n",
    "                open text, high text, low text, close text, ex_dividend text)'\n",
    "\n",
    "con = sq3.connect('securities.db')\n",
    "con.execute(initialize)"
   ]
  },
  {
   "cell_type": "code",
   "execution_count": 257,
   "metadata": {},
   "outputs": [],
   "source": [
    "con.commit()"
   ]
  },
  {
   "cell_type": "code",
   "execution_count": 269,
   "metadata": {},
   "outputs": [],
   "source": [
    "#basic eda prototyping \n",
    "sms1.columns = ['date', 'ticker', 'positive', 'tweets']\n",
    "sms1['date'] = pd.to_datetime(sms1.date)\n",
    "prices['date'] = pd.to_datetime(prices.date)\n",
    "prices['ticker'] = prices['ticker'].str.strip()\n",
    "prices.columns = [v for v in prices.columns[:6]] + ['ex_dividend']\n",
    "sms1['ticker'] = sms1['ticker'].str.strip()"
   ]
  },
  {
   "cell_type": "code",
   "execution_count": 189,
   "metadata": {},
   "outputs": [],
   "source": [
    "#prototype basic setup to execute many\n",
    "kalu_1 =pd.merge(sms1[sms1['ticker'] == 'KALU'], prices[prices['ticker'] == 'KALU'], how='left', on=['date', 'ticker'], left_index=True)"
   ]
  },
  {
   "cell_type": "code",
   "execution_count": 190,
   "metadata": {},
   "outputs": [],
   "source": [
    "#test inserting many records at once\n",
    "kalu_1.to_sql(name='securities', if_exists='append', con=con, index=False)"
   ]
  },
  {
   "cell_type": "code",
   "execution_count": 272,
   "metadata": {},
   "outputs": [],
   "source": [
    "def merge_price_sms(sms_df, price_df, ticker):\n",
    "    '''\n",
    "    Performs a left merge of two dataframes on ticker and date values.\n",
    "    If price data not available for given date, the price entries become NaNs\n",
    "    \n",
    "    '''\n",
    "    month_merged_sec = pd.merge(sms_df[sms_df['ticker'] == ticker], price_df[price_df['ticker'] == ticker], \n",
    "                                how='left', \n",
    "                                on=['date', 'ticker'], \n",
    "                                left_index=True)\n",
    "    return month_merged_sec"
   ]
  },
  {
   "cell_type": "code",
   "execution_count": 273,
   "metadata": {},
   "outputs": [],
   "source": [
    "def fix_date(date):\n",
    "    '''\n",
    "    converts numpy int64 to date-like string\n",
    "    '''\n",
    "    date = str(date)\n",
    "    \n",
    "    year = date[:4]\n",
    "    month = date[4:6]\n",
    "    day = date[6:]\n",
    "    \n",
    "    date_new = year + '-' + month + '-' + day\n",
    "    \n",
    "    return date_new\n",
    "    "
   ]
  },
  {
   "cell_type": "code",
   "execution_count": 192,
   "metadata": {},
   "outputs": [
    {
     "name": "stderr",
     "output_type": "stream",
     "text": [
      "/Users/livingdharma/miniconda2/envs/xarray-dev/lib/python3.6/site-packages/IPython/core/interactiveshell.py:2728: DtypeWarning: Columns (3) have mixed types. Specify dtype option on import or set low_memory=False.\n",
      "  interactivity=interactivity, compiler=compiler, result=result)\n"
     ]
    }
   ],
   "source": [
    "#cleans up the date conventions in last three months\n",
    "sms_data = glob.glob('/Users/livingdharma/Downloads/data_engineering_test/sms_data/*')\n",
    "\n",
    "for month in sms_data[-3:]:\n",
    "    sms_month = pd.read_csv(month)\n",
    "    sms_month.columns = ['date', 'ticker', 'positive', 'tweets']\n",
    "    sms_month['date'] = sms_month['date'].apply(fix_date)\n",
    "    \n",
    "        \n",
    "    sms_month.to_csv(month, columns=['date', 'ticker', 'positive', 'tweets'], index =False)\n",
    "        \n",
    "        "
   ]
  },
  {
   "cell_type": "code",
   "execution_count": 291,
   "metadata": {},
   "outputs": [],
   "source": [
    "#Main routine, writes to sql with pandas\n",
    "import time\n",
    "now = time.time()\n",
    "import glob\n",
    "sms_data = glob.glob('~/Downloads/data_engineering_test/sms_data/*')\n",
    "\n",
    "for month_path in sms_data:\n",
    "    sms_month = pd.read_csv(month_path)\n",
    "    \n",
    "    #clean data\n",
    "    sms_month.columns = ['date', 'ticker', 'positive', 'tweets']\n",
    "    sms_month['ticker'] = sms_month['ticker'].str.strip()\n",
    "    sms_month['date'] = pd.to_datetime(sms_month.date)\n",
    "    \n",
    "    for ticker in prices.ticker.unique():\n",
    "        mms = merge_price_sms(sms_month, prices, ticker)\n",
    "        mms.to_sql(name='securities', if_exists='append', con=con, index=False)\n",
    "        print('writing to sql {}: {}'.format(ticker,sms_month.date[0].month ))\n",
    "        \n",
    "then = time.time() - now"
   ]
  },
  {
   "cell_type": "code",
   "execution_count": 280,
   "metadata": {},
   "outputs": [
    {
     "data": {
      "text/plain": [
       "961410"
      ]
     },
     "execution_count": 280,
     "metadata": {},
     "output_type": "execute_result"
    }
   ],
   "source": [
    "df = pd.read_sql(sql='SELECT * from securities', con=con)\n",
    "len(df)"
   ]
  },
  {
   "cell_type": "code",
   "execution_count": 254,
   "metadata": {},
   "outputs": [
    {
     "data": {
      "text/plain": [
       "675612"
      ]
     },
     "execution_count": 254,
     "metadata": {},
     "output_type": "execute_result"
    }
   ],
   "source": [
    "#securities * trading days\n",
    "2681*252"
   ]
  },
  {
   "cell_type": "code",
   "execution_count": 242,
   "metadata": {},
   "outputs": [],
   "source": [
    "def get_ticker_by_time(connection, ticker, start_date, end_date):\n",
    "    '''\n",
    "    Returns rows from SQL database for the ticker requested in the dates requested\n",
    "    \n",
    "    parameters\n",
    "    ----------\n",
    "    ticker: str\n",
    "    start_date: str in yyyy-mm-dd\n",
    "    end_date: str in yyyy-mm-dd\n",
    "    returns\n",
    "    -------\n",
    "    pd.DataFrame\n",
    "    \n",
    "    '''\n",
    "    query = 'SELECT * from securities where ticker == \"{}\"'.format(ticker)\n",
    "    df = pd.read_sql(query, connection)\n",
    "    \n",
    "    return df[(df['date'] > start_date) & (df['date'] < end_date)]"
   ]
  },
  {
   "cell_type": "code",
   "execution_count": 292,
   "metadata": {},
   "outputs": [
    {
     "data": {
      "text/html": [
       "<div>\n",
       "<style scoped>\n",
       "    .dataframe tbody tr th:only-of-type {\n",
       "        vertical-align: middle;\n",
       "    }\n",
       "\n",
       "    .dataframe tbody tr th {\n",
       "        vertical-align: top;\n",
       "    }\n",
       "\n",
       "    .dataframe thead th {\n",
       "        text-align: right;\n",
       "    }\n",
       "</style>\n",
       "<table border=\"1\" class=\"dataframe\">\n",
       "  <thead>\n",
       "    <tr style=\"text-align: right;\">\n",
       "      <th></th>\n",
       "      <th>date</th>\n",
       "      <th>ticker</th>\n",
       "      <th>positive</th>\n",
       "      <th>tweets</th>\n",
       "      <th>open</th>\n",
       "      <th>high</th>\n",
       "      <th>low</th>\n",
       "      <th>close</th>\n",
       "      <th>ex_dividend</th>\n",
       "    </tr>\n",
       "  </thead>\n",
       "  <tbody>\n",
       "    <tr>\n",
       "      <th>0</th>\n",
       "      <td>2017-01-01 00:00:00</td>\n",
       "      <td>ZOES</td>\n",
       "      <td>0.413627</td>\n",
       "      <td>106697</td>\n",
       "      <td>None</td>\n",
       "      <td>None</td>\n",
       "      <td>None</td>\n",
       "      <td>None</td>\n",
       "      <td>None</td>\n",
       "    </tr>\n",
       "    <tr>\n",
       "      <th>1</th>\n",
       "      <td>2017-01-02 00:00:00</td>\n",
       "      <td>ZOES</td>\n",
       "      <td>0.288642</td>\n",
       "      <td>657857</td>\n",
       "      <td>None</td>\n",
       "      <td>None</td>\n",
       "      <td>None</td>\n",
       "      <td>None</td>\n",
       "      <td>None</td>\n",
       "    </tr>\n",
       "    <tr>\n",
       "      <th>2</th>\n",
       "      <td>2017-01-03 00:00:00</td>\n",
       "      <td>ZOES</td>\n",
       "      <td>0.183176</td>\n",
       "      <td>333732</td>\n",
       "      <td>21.15</td>\n",
       "      <td>21.41</td>\n",
       "      <td>20.48</td>\n",
       "      <td>20.77</td>\n",
       "      <td>0.0</td>\n",
       "    </tr>\n",
       "    <tr>\n",
       "      <th>3</th>\n",
       "      <td>2017-01-04 00:00:00</td>\n",
       "      <td>ZOES</td>\n",
       "      <td>0.287684</td>\n",
       "      <td>401507</td>\n",
       "      <td>20.85</td>\n",
       "      <td>21.86</td>\n",
       "      <td>20.74</td>\n",
       "      <td>21.79</td>\n",
       "      <td>0.0</td>\n",
       "    </tr>\n",
       "    <tr>\n",
       "      <th>4</th>\n",
       "      <td>2017-01-05 00:00:00</td>\n",
       "      <td>ZOES</td>\n",
       "      <td>0.322239</td>\n",
       "      <td>223581</td>\n",
       "      <td>21.64</td>\n",
       "      <td>22.66</td>\n",
       "      <td>21.35</td>\n",
       "      <td>22.6</td>\n",
       "      <td>0.0</td>\n",
       "    </tr>\n",
       "  </tbody>\n",
       "</table>\n",
       "</div>"
      ],
      "text/plain": [
       "                  date ticker  positive   tweets   open   high    low  close  \\\n",
       "0  2017-01-01 00:00:00   ZOES  0.413627   106697   None   None   None   None   \n",
       "1  2017-01-02 00:00:00   ZOES  0.288642   657857   None   None   None   None   \n",
       "2  2017-01-03 00:00:00   ZOES  0.183176   333732  21.15  21.41  20.48  20.77   \n",
       "3  2017-01-04 00:00:00   ZOES  0.287684   401507  20.85  21.86  20.74  21.79   \n",
       "4  2017-01-05 00:00:00   ZOES  0.322239   223581  21.64  22.66  21.35   22.6   \n",
       "\n",
       "  ex_dividend  \n",
       "0        None  \n",
       "1        None  \n",
       "2         0.0  \n",
       "3         0.0  \n",
       "4         0.0  "
      ]
     },
     "execution_count": 292,
     "metadata": {},
     "output_type": "execute_result"
    }
   ],
   "source": [
    "get_ticker_by_time(con, 'ZOES', '2017-01-01', '2018-01-01').head()"
   ]
  },
  {
   "cell_type": "code",
   "execution_count": null,
   "metadata": {},
   "outputs": [],
   "source": []
  }
 ],
 "metadata": {
  "kernelspec": {
   "display_name": "Python 3",
   "language": "python",
   "name": "python3"
  },
  "language_info": {
   "codemirror_mode": {
    "name": "ipython",
    "version": 3
   },
   "file_extension": ".py",
   "mimetype": "text/x-python",
   "name": "python",
   "nbconvert_exporter": "python",
   "pygments_lexer": "ipython3",
   "version": "3.6.4"
  }
 },
 "nbformat": 4,
 "nbformat_minor": 2
}
