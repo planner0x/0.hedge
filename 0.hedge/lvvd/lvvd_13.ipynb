{
 "cells": [
  {
   "cell_type": "markdown",
   "metadata": {},
   "source": [
    "### Square Root Diffusion"
   ]
  },
  {
   "cell_type": "code",
   "execution_count": 1,
   "metadata": {},
   "outputs": [],
   "source": [
    "import warnings; warnings.simplefilter('ignore')"
   ]
  },
  {
   "cell_type": "code",
   "execution_count": 2,
   "metadata": {},
   "outputs": [],
   "source": [
    "import numpy as np\n",
    "import pandas as pd\n",
    "import datetime as dt"
   ]
  },
  {
   "cell_type": "code",
   "execution_count": 4,
   "metadata": {},
   "outputs": [],
   "source": [
    "h5 = pd.HDFStore('data/vstoxx_march_2014.h5', 'r')\n",
    "vstoxx_index = h5['vstoxx_index']  # data for the index itself \n",
    "vstoxx_futures = h5['vstoxx_futures']  # data for the futures\n",
    "vstoxx_options = h5['vstoxx_options']  # data for the options\n",
    "h5.close()"
   ]
  },
  {
   "cell_type": "code",
   "execution_count": 5,
   "metadata": {},
   "outputs": [
    {
     "name": "stdout",
     "output_type": "stream",
     "text": [
      "<class 'pandas.core.frame.DataFrame'>\n",
      "DatetimeIndex: 63 entries, 2014-01-02 to 2014-03-31\n",
      "Data columns (total 9 columns):\n",
      "V2TX    63 non-null float64\n",
      "V6I1    57 non-null float64\n",
      "V6I2    63 non-null float64\n",
      "V6I3    61 non-null float64\n",
      "V6I4    63 non-null float64\n",
      "V6I5    63 non-null float64\n",
      "V6I6    62 non-null float64\n",
      "V6I7    63 non-null float64\n",
      "V6I8    63 non-null float64\n",
      "dtypes: float64(9)\n",
      "memory usage: 4.9 KB\n"
     ]
    }
   ],
   "source": [
    "vstoxx_index.info()\n"
   ]
  },
  {
   "cell_type": "code",
   "execution_count": 6,
   "metadata": {},
   "outputs": [
    {
     "data": {
      "text/html": [
       "<div>\n",
       "<style scoped>\n",
       "    .dataframe tbody tr th:only-of-type {\n",
       "        vertical-align: middle;\n",
       "    }\n",
       "\n",
       "    .dataframe tbody tr th {\n",
       "        vertical-align: top;\n",
       "    }\n",
       "\n",
       "    .dataframe thead th {\n",
       "        text-align: right;\n",
       "    }\n",
       "</style>\n",
       "<table border=\"1\" class=\"dataframe\">\n",
       "  <thead>\n",
       "    <tr style=\"text-align: right;\">\n",
       "      <th></th>\n",
       "      <th>V2TX</th>\n",
       "      <th>V6I1</th>\n",
       "      <th>V6I2</th>\n",
       "      <th>V6I3</th>\n",
       "      <th>V6I4</th>\n",
       "      <th>V6I5</th>\n",
       "      <th>V6I6</th>\n",
       "      <th>V6I7</th>\n",
       "      <th>V6I8</th>\n",
       "    </tr>\n",
       "    <tr>\n",
       "      <th>b'Date'</th>\n",
       "      <th></th>\n",
       "      <th></th>\n",
       "      <th></th>\n",
       "      <th></th>\n",
       "      <th></th>\n",
       "      <th></th>\n",
       "      <th></th>\n",
       "      <th></th>\n",
       "      <th></th>\n",
       "    </tr>\n",
       "  </thead>\n",
       "  <tbody>\n",
       "    <tr>\n",
       "      <th>2014-03-25</th>\n",
       "      <td>18.2637</td>\n",
       "      <td>18.2303</td>\n",
       "      <td>18.3078</td>\n",
       "      <td>19.0371</td>\n",
       "      <td>19.8378</td>\n",
       "      <td>20.3065</td>\n",
       "      <td>18.1063</td>\n",
       "      <td>20.8292</td>\n",
       "      <td>21.2046</td>\n",
       "    </tr>\n",
       "    <tr>\n",
       "      <th>2014-03-26</th>\n",
       "      <td>17.5869</td>\n",
       "      <td>17.4810</td>\n",
       "      <td>17.7009</td>\n",
       "      <td>18.4499</td>\n",
       "      <td>19.4150</td>\n",
       "      <td>19.9961</td>\n",
       "      <td>20.2562</td>\n",
       "      <td>20.4541</td>\n",
       "      <td>20.8563</td>\n",
       "    </tr>\n",
       "    <tr>\n",
       "      <th>2014-03-27</th>\n",
       "      <td>17.6397</td>\n",
       "      <td>17.5032</td>\n",
       "      <td>17.7608</td>\n",
       "      <td>18.6249</td>\n",
       "      <td>19.4860</td>\n",
       "      <td>20.0477</td>\n",
       "      <td>20.1078</td>\n",
       "      <td>20.4865</td>\n",
       "      <td>20.9449</td>\n",
       "    </tr>\n",
       "    <tr>\n",
       "      <th>2014-03-28</th>\n",
       "      <td>17.0324</td>\n",
       "      <td>16.6849</td>\n",
       "      <td>17.2864</td>\n",
       "      <td>18.3281</td>\n",
       "      <td>19.3032</td>\n",
       "      <td>19.8332</td>\n",
       "      <td>20.1371</td>\n",
       "      <td>20.3808</td>\n",
       "      <td>20.8210</td>\n",
       "    </tr>\n",
       "    <tr>\n",
       "      <th>2014-03-31</th>\n",
       "      <td>17.6639</td>\n",
       "      <td>17.6087</td>\n",
       "      <td>17.6879</td>\n",
       "      <td>18.5689</td>\n",
       "      <td>19.4285</td>\n",
       "      <td>20.0430</td>\n",
       "      <td>19.9823</td>\n",
       "      <td>20.4448</td>\n",
       "      <td>20.8994</td>\n",
       "    </tr>\n",
       "  </tbody>\n",
       "</table>\n",
       "</div>"
      ],
      "text/plain": [
       "               V2TX     V6I1     V6I2     V6I3     V6I4     V6I5     V6I6  \\\n",
       "b'Date'                                                                     \n",
       "2014-03-25  18.2637  18.2303  18.3078  19.0371  19.8378  20.3065  18.1063   \n",
       "2014-03-26  17.5869  17.4810  17.7009  18.4499  19.4150  19.9961  20.2562   \n",
       "2014-03-27  17.6397  17.5032  17.7608  18.6249  19.4860  20.0477  20.1078   \n",
       "2014-03-28  17.0324  16.6849  17.2864  18.3281  19.3032  19.8332  20.1371   \n",
       "2014-03-31  17.6639  17.6087  17.6879  18.5689  19.4285  20.0430  19.9823   \n",
       "\n",
       "               V6I7     V6I8  \n",
       "b'Date'                       \n",
       "2014-03-25  20.8292  21.2046  \n",
       "2014-03-26  20.4541  20.8563  \n",
       "2014-03-27  20.4865  20.9449  \n",
       "2014-03-28  20.3808  20.8210  \n",
       "2014-03-31  20.4448  20.8994  "
      ]
     },
     "execution_count": 6,
     "metadata": {},
     "output_type": "execute_result"
    }
   ],
   "source": [
    "vstoxx_index.tail()"
   ]
  },
  {
   "cell_type": "code",
   "execution_count": 7,
   "metadata": {},
   "outputs": [
    {
     "data": {
      "text/plain": [
       "[1389916800000000000,\n",
       " 1392940800000000000,\n",
       " 1395360000000000000,\n",
       " 1397779200000000000,\n",
       " 1400198400000000000,\n",
       " 1403222400000000000,\n",
       " 1405641600000000000,\n",
       " 1408060800000000000,\n",
       " 1411084800000000000,\n",
       " 1413504000000000000,\n",
       " 1416528000000000000]"
      ]
     },
     "execution_count": 7,
     "metadata": {},
     "output_type": "execute_result"
    }
   ],
   "source": [
    "third_fridays = sorted(set(vstoxx_futures['MATURITY']))\n",
    "third_fridays"
   ]
  },
  {
   "cell_type": "code",
   "execution_count": null,
   "metadata": {},
   "outputs": [],
   "source": []
  }
 ],
 "metadata": {
  "kernelspec": {
   "display_name": "Python 3",
   "language": "python",
   "name": "python3"
  },
  "language_info": {
   "codemirror_mode": {
    "name": "ipython",
    "version": 3
   },
   "file_extension": ".py",
   "mimetype": "text/x-python",
   "name": "python",
   "nbconvert_exporter": "python",
   "pygments_lexer": "ipython3",
   "version": "3.6.3"
  }
 },
 "nbformat": 4,
 "nbformat_minor": 2
}
