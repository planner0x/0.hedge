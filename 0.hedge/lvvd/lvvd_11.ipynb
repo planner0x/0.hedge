{
 "cells": [
  {
   "cell_type": "markdown",
   "metadata": {},
   "source": [
    "#### Trading Settlement and Intraday Trading\n",
    "\n",
    "* Underlying: Realized variance of Eurostoxx50 stock index\n",
    "* Interest rates: Euribor for present value factor of $DF_t$ and EONIA for $ARMVM_T$\n",
    "* Standard Strike: Determined on first trading day equal to implied vol for relevant maturity\n",
    "* 1st Settlement Price: Equal to 3000\n",
    "* Contract Value: 1 Eur per variance future\n",
    "* tick value: 0.0001 Euro\n",
    "* settlement: cash\n",
    "* terms: end date of next three months as well as next three quarter end months as well as June and December therafter\n",
    "* last trading day: one day before final settlement day\n",
    "* final settlment day: third friday of maturity month\n",
    "* final settlement price: average index level between 1150 and 12noon CET on settlement day\n",
    "* trade matching: variance futures trade in notional vega at volatility; upon matching,notional vega and volatility are converted into variance futures and variance futures prices \n",
    "* Continuous trading: 9am to 1730 CET on each trading day of EUREX\n",
    "* EUREX Trade entry service: From 1830 - 2100 CET of every trading day\n",
    "* Order Maintenance: Notional vega at volatility, minimum order size 1 vega, minimum price change 0.5 vol points\n",
    "\n",
    "\n",
    "#### Intraday Trading\n",
    "\n",
    "* Variance futures traded on exchange in terms of notional vega and vol\n",
    "* Intraday there are no live prices so they are calculated using live vol quotes and time to maturity conversion params \n"
   ]
  },
  {
   "cell_type": "code",
   "execution_count": 1,
   "metadata": {},
   "outputs": [
    {
     "data": {
      "text/html": [
       "<div>\n",
       "<style scoped>\n",
       "    .dataframe tbody tr th:only-of-type {\n",
       "        vertical-align: middle;\n",
       "    }\n",
       "\n",
       "    .dataframe tbody tr th {\n",
       "        vertical-align: top;\n",
       "    }\n",
       "\n",
       "    .dataframe thead th {\n",
       "        text-align: right;\n",
       "    }\n",
       "</style>\n",
       "<table border=\"1\" class=\"dataframe\">\n",
       "  <thead>\n",
       "    <tr style=\"text-align: right;\">\n",
       "      <th></th>\n",
       "      <th>SX5E</th>\n",
       "      <th>V6I1</th>\n",
       "      <th>2w</th>\n",
       "      <th>EONIA</th>\n",
       "      <th>R_t</th>\n",
       "      <th>sigma**2</th>\n",
       "      <th>t</th>\n",
       "      <th>DF_t</th>\n",
       "      <th>F_tS</th>\n",
       "      <th>ARMVM_t</th>\n",
       "    </tr>\n",
       "    <tr>\n",
       "      <th>b'Date'</th>\n",
       "      <th></th>\n",
       "      <th></th>\n",
       "      <th></th>\n",
       "      <th></th>\n",
       "      <th></th>\n",
       "      <th></th>\n",
       "      <th></th>\n",
       "      <th></th>\n",
       "      <th></th>\n",
       "      <th></th>\n",
       "    </tr>\n",
       "  </thead>\n",
       "  <tbody>\n",
       "    <tr>\n",
       "      <th>2015-06-01</th>\n",
       "      <td>3575.04</td>\n",
       "      <td>25.8710</td>\n",
       "      <td>-0.108</td>\n",
       "      <td>-0.106</td>\n",
       "      <td>NaN</td>\n",
       "      <td>NaN</td>\n",
       "      <td>1</td>\n",
       "      <td>1.000038</td>\n",
       "      <td>3000</td>\n",
       "      <td>0.000000</td>\n",
       "    </tr>\n",
       "    <tr>\n",
       "      <th>2015-06-02</th>\n",
       "      <td>3561.89</td>\n",
       "      <td>25.9232</td>\n",
       "      <td>-0.109</td>\n",
       "      <td>-0.122</td>\n",
       "      <td>-0.003685</td>\n",
       "      <td>34.220799</td>\n",
       "      <td>2</td>\n",
       "      <td>1.000036</td>\n",
       "      <td>2917</td>\n",
       "      <td>0.000000</td>\n",
       "    </tr>\n",
       "    <tr>\n",
       "      <th>2015-06-03</th>\n",
       "      <td>3583.82</td>\n",
       "      <td>25.7958</td>\n",
       "      <td>-0.109</td>\n",
       "      <td>-0.143</td>\n",
       "      <td>0.006138</td>\n",
       "      <td>64.580457</td>\n",
       "      <td>3</td>\n",
       "      <td>1.000033</td>\n",
       "      <td>2875</td>\n",
       "      <td>0.040173</td>\n",
       "    </tr>\n",
       "    <tr>\n",
       "      <th>2015-06-04</th>\n",
       "      <td>3556.38</td>\n",
       "      <td>26.2418</td>\n",
       "      <td>-0.109</td>\n",
       "      <td>-0.138</td>\n",
       "      <td>-0.007686</td>\n",
       "      <td>92.677552</td>\n",
       "      <td>4</td>\n",
       "      <td>1.000030</td>\n",
       "      <td>2860</td>\n",
       "      <td>0.111062</td>\n",
       "    </tr>\n",
       "    <tr>\n",
       "      <th>2015-06-05</th>\n",
       "      <td>3510.01</td>\n",
       "      <td>27.4496</td>\n",
       "      <td>-0.109</td>\n",
       "      <td>-0.115</td>\n",
       "      <td>-0.013124</td>\n",
       "      <td>178.023718</td>\n",
       "      <td>5</td>\n",
       "      <td>1.000027</td>\n",
       "      <td>2892</td>\n",
       "      <td>0.187647</td>\n",
       "    </tr>\n",
       "  </tbody>\n",
       "</table>\n",
       "</div>"
      ],
      "text/plain": [
       "               SX5E     V6I1     2w  EONIA       R_t    sigma**2  t      DF_t  \\\n",
       "b'Date'                                                                         \n",
       "2015-06-01  3575.04  25.8710 -0.108 -0.106       NaN         NaN  1  1.000038   \n",
       "2015-06-02  3561.89  25.9232 -0.109 -0.122 -0.003685   34.220799  2  1.000036   \n",
       "2015-06-03  3583.82  25.7958 -0.109 -0.143  0.006138   64.580457  3  1.000033   \n",
       "2015-06-04  3556.38  26.2418 -0.109 -0.138 -0.007686   92.677552  4  1.000030   \n",
       "2015-06-05  3510.01  27.4496 -0.109 -0.115 -0.013124  178.023718  5  1.000027   \n",
       "\n",
       "            F_tS   ARMVM_t  \n",
       "b'Date'                     \n",
       "2015-06-01  3000  0.000000  \n",
       "2015-06-02  2917  0.000000  \n",
       "2015-06-03  2875  0.040173  \n",
       "2015-06-04  2860  0.111062  \n",
       "2015-06-05  2892  0.187647  "
      ]
     },
     "execution_count": 1,
     "metadata": {},
     "output_type": "execute_result"
    }
   ],
   "source": [
    "import pandas as pd\n",
    "h5 = pd.HDFStore('data/var_data.h5', 'r')\n",
    "data = h5['var_future']\n",
    "h5.close()\n",
    "data.head()"
   ]
  },
  {
   "cell_type": "code",
   "execution_count": 2,
   "metadata": {},
   "outputs": [
    {
     "data": {
      "text/plain": [
       "25.870999999999999"
      ]
     },
     "execution_count": 2,
     "metadata": {},
     "output_type": "execute_result"
    }
   ],
   "source": [
    "T = data['t'][-1]\n",
    "T\n",
    "sigma_K = data['V6I1'][0]\n",
    "sigma_K"
   ]
  },
  {
   "cell_type": "code",
   "execution_count": 3,
   "metadata": {},
   "outputs": [],
   "source": [
    "data['F_ti'] = 3000.0\n",
    "for t in data.index[2:]:\n",
    "    data.loc[t, 'F_ti'] = data['DF_t'].shift(1)[t] * (\n",
    "                    (data['t'][t]  * data['sigma**2'].shift(1)[t]\n",
    "                  + (T - data['t'][t]) * data['V6I1'].shift(1)[t] ** 2) / T\n",
    "                  - sigma_K ** 2) - data['ARMVM_t'].shift(1)[t] + 3000"
   ]
  },
  {
   "cell_type": "code",
   "execution_count": 4,
   "metadata": {},
   "outputs": [
    {
     "data": {
      "text/html": [
       "<div>\n",
       "<style scoped>\n",
       "    .dataframe tbody tr th:only-of-type {\n",
       "        vertical-align: middle;\n",
       "    }\n",
       "\n",
       "    .dataframe tbody tr th {\n",
       "        vertical-align: top;\n",
       "    }\n",
       "\n",
       "    .dataframe thead th {\n",
       "        text-align: right;\n",
       "    }\n",
       "</style>\n",
       "<table border=\"1\" class=\"dataframe\">\n",
       "  <thead>\n",
       "    <tr style=\"text-align: right;\">\n",
       "      <th></th>\n",
       "      <th>SX5E</th>\n",
       "      <th>V6I1</th>\n",
       "      <th>2w</th>\n",
       "      <th>EONIA</th>\n",
       "      <th>R_t</th>\n",
       "      <th>sigma**2</th>\n",
       "      <th>t</th>\n",
       "      <th>DF_t</th>\n",
       "      <th>F_tS</th>\n",
       "      <th>ARMVM_t</th>\n",
       "      <th>F_ti</th>\n",
       "    </tr>\n",
       "    <tr>\n",
       "      <th>b'Date'</th>\n",
       "      <th></th>\n",
       "      <th></th>\n",
       "      <th></th>\n",
       "      <th></th>\n",
       "      <th></th>\n",
       "      <th></th>\n",
       "      <th></th>\n",
       "      <th></th>\n",
       "      <th></th>\n",
       "      <th></th>\n",
       "      <th></th>\n",
       "    </tr>\n",
       "  </thead>\n",
       "  <tbody>\n",
       "    <tr>\n",
       "      <th>2015-06-01</th>\n",
       "      <td>3575.04</td>\n",
       "      <td>25.8710</td>\n",
       "      <td>-0.108</td>\n",
       "      <td>-0.106</td>\n",
       "      <td>NaN</td>\n",
       "      <td>NaN</td>\n",
       "      <td>1</td>\n",
       "      <td>1.000038</td>\n",
       "      <td>3000</td>\n",
       "      <td>0.000000</td>\n",
       "      <td>3000.000000</td>\n",
       "    </tr>\n",
       "    <tr>\n",
       "      <th>2015-06-02</th>\n",
       "      <td>3561.89</td>\n",
       "      <td>25.9232</td>\n",
       "      <td>-0.109</td>\n",
       "      <td>-0.122</td>\n",
       "      <td>-0.003685</td>\n",
       "      <td>34.220799</td>\n",
       "      <td>2</td>\n",
       "      <td>1.000036</td>\n",
       "      <td>2917</td>\n",
       "      <td>0.000000</td>\n",
       "      <td>3000.000000</td>\n",
       "    </tr>\n",
       "    <tr>\n",
       "      <th>2015-06-03</th>\n",
       "      <td>3583.82</td>\n",
       "      <td>25.7958</td>\n",
       "      <td>-0.109</td>\n",
       "      <td>-0.143</td>\n",
       "      <td>0.006138</td>\n",
       "      <td>64.580457</td>\n",
       "      <td>3</td>\n",
       "      <td>1.000033</td>\n",
       "      <td>2875</td>\n",
       "      <td>0.040173</td>\n",
       "      <td>2875.140910</td>\n",
       "    </tr>\n",
       "    <tr>\n",
       "      <th>2015-06-04</th>\n",
       "      <td>3556.38</td>\n",
       "      <td>26.2418</td>\n",
       "      <td>-0.109</td>\n",
       "      <td>-0.138</td>\n",
       "      <td>-0.007686</td>\n",
       "      <td>92.677552</td>\n",
       "      <td>4</td>\n",
       "      <td>1.000030</td>\n",
       "      <td>2860</td>\n",
       "      <td>0.111062</td>\n",
       "      <td>2835.844331</td>\n",
       "    </tr>\n",
       "    <tr>\n",
       "      <th>2015-06-05</th>\n",
       "      <td>3510.01</td>\n",
       "      <td>27.4496</td>\n",
       "      <td>-0.109</td>\n",
       "      <td>-0.115</td>\n",
       "      <td>-0.013124</td>\n",
       "      <td>178.023718</td>\n",
       "      <td>5</td>\n",
       "      <td>1.000027</td>\n",
       "      <td>2892</td>\n",
       "      <td>0.187647</td>\n",
       "      <td>2820.555454</td>\n",
       "    </tr>\n",
       "    <tr>\n",
       "      <th>2015-06-08</th>\n",
       "      <td>3468.31</td>\n",
       "      <td>27.2996</td>\n",
       "      <td>-0.110</td>\n",
       "      <td>-0.127</td>\n",
       "      <td>-0.011951</td>\n",
       "      <td>214.408816</td>\n",
       "      <td>6</td>\n",
       "      <td>1.000025</td>\n",
       "      <td>2863</td>\n",
       "      <td>0.236836</td>\n",
       "      <td>2853.797523</td>\n",
       "    </tr>\n",
       "    <tr>\n",
       "      <th>2015-06-09</th>\n",
       "      <td>3456.79</td>\n",
       "      <td>26.8020</td>\n",
       "      <td>-0.110</td>\n",
       "      <td>-0.126</td>\n",
       "      <td>-0.003327</td>\n",
       "      <td>183.323049</td>\n",
       "      <td>7</td>\n",
       "      <td>1.000022</td>\n",
       "      <td>2799</td>\n",
       "      <td>0.305743</td>\n",
       "      <td>2827.984087</td>\n",
       "    </tr>\n",
       "    <tr>\n",
       "      <th>2015-06-10</th>\n",
       "      <td>3526.48</td>\n",
       "      <td>25.8610</td>\n",
       "      <td>-0.111</td>\n",
       "      <td>-0.117</td>\n",
       "      <td>0.019960</td>\n",
       "      <td>300.555651</td>\n",
       "      <td>8</td>\n",
       "      <td>1.000019</td>\n",
       "      <td>2802</td>\n",
       "      <td>0.406065</td>\n",
       "      <td>2763.381425</td>\n",
       "    </tr>\n",
       "    <tr>\n",
       "      <th>2015-06-11</th>\n",
       "      <td>3551.91</td>\n",
       "      <td>26.3897</td>\n",
       "      <td>-0.111</td>\n",
       "      <td>-0.120</td>\n",
       "      <td>0.007185</td>\n",
       "      <td>279.249096</td>\n",
       "      <td>9</td>\n",
       "      <td>1.000016</td>\n",
       "      <td>2776</td>\n",
       "      <td>0.497784</td>\n",
       "      <td>2778.130966</td>\n",
       "    </tr>\n",
       "    <tr>\n",
       "      <th>2015-06-12</th>\n",
       "      <td>3502.77</td>\n",
       "      <td>29.7725</td>\n",
       "      <td>-0.113</td>\n",
       "      <td>-0.125</td>\n",
       "      <td>-0.013931</td>\n",
       "      <td>302.564935</td>\n",
       "      <td>10</td>\n",
       "      <td>1.000014</td>\n",
       "      <td>2827</td>\n",
       "      <td>0.604188</td>\n",
       "      <td>2748.494268</td>\n",
       "    </tr>\n",
       "    <tr>\n",
       "      <th>2015-06-15</th>\n",
       "      <td>3438.07</td>\n",
       "      <td>34.5593</td>\n",
       "      <td>-0.108</td>\n",
       "      <td>-0.119</td>\n",
       "      <td>-0.018644</td>\n",
       "      <td>359.901600</td>\n",
       "      <td>11</td>\n",
       "      <td>1.000011</td>\n",
       "      <td>2912</td>\n",
       "      <td>0.689681</td>\n",
       "      <td>2788.339034</td>\n",
       "    </tr>\n",
       "    <tr>\n",
       "      <th>2015-06-16</th>\n",
       "      <td>3454.09</td>\n",
       "      <td>36.2222</td>\n",
       "      <td>-0.109</td>\n",
       "      <td>-0.125</td>\n",
       "      <td>0.004649</td>\n",
       "      <td>332.134168</td>\n",
       "      <td>12</td>\n",
       "      <td>1.000008</td>\n",
       "      <td>2858</td>\n",
       "      <td>0.730901</td>\n",
       "      <td>2856.790440</td>\n",
       "    </tr>\n",
       "    <tr>\n",
       "      <th>2015-06-17</th>\n",
       "      <td>3428.76</td>\n",
       "      <td>34.7235</td>\n",
       "      <td>-0.109</td>\n",
       "      <td>-0.110</td>\n",
       "      <td>-0.007360</td>\n",
       "      <td>315.833038</td>\n",
       "      <td>13</td>\n",
       "      <td>1.000005</td>\n",
       "      <td>2764</td>\n",
       "      <td>0.800957</td>\n",
       "      <td>2792.748076</td>\n",
       "    </tr>\n",
       "    <tr>\n",
       "      <th>2015-06-18</th>\n",
       "      <td>3450.45</td>\n",
       "      <td>34.7235</td>\n",
       "      <td>-0.109</td>\n",
       "      <td>-0.118</td>\n",
       "      <td>0.006306</td>\n",
       "      <td>299.246550</td>\n",
       "      <td>14</td>\n",
       "      <td>1.000003</td>\n",
       "      <td>2689</td>\n",
       "      <td>0.903601</td>\n",
       "      <td>2705.047722</td>\n",
       "    </tr>\n",
       "    <tr>\n",
       "      <th>2015-06-19</th>\n",
       "      <td>3455.80</td>\n",
       "      <td>34.7235</td>\n",
       "      <td>-0.108</td>\n",
       "      <td>-0.120</td>\n",
       "      <td>0.001549</td>\n",
       "      <td>278.303868</td>\n",
       "      <td>15</td>\n",
       "      <td>1.000000</td>\n",
       "      <td>2607</td>\n",
       "      <td>1.048771</td>\n",
       "      <td>2629.033294</td>\n",
       "    </tr>\n",
       "  </tbody>\n",
       "</table>\n",
       "</div>"
      ],
      "text/plain": [
       "               SX5E     V6I1     2w  EONIA       R_t    sigma**2   t  \\\n",
       "b'Date'                                                                \n",
       "2015-06-01  3575.04  25.8710 -0.108 -0.106       NaN         NaN   1   \n",
       "2015-06-02  3561.89  25.9232 -0.109 -0.122 -0.003685   34.220799   2   \n",
       "2015-06-03  3583.82  25.7958 -0.109 -0.143  0.006138   64.580457   3   \n",
       "2015-06-04  3556.38  26.2418 -0.109 -0.138 -0.007686   92.677552   4   \n",
       "2015-06-05  3510.01  27.4496 -0.109 -0.115 -0.013124  178.023718   5   \n",
       "2015-06-08  3468.31  27.2996 -0.110 -0.127 -0.011951  214.408816   6   \n",
       "2015-06-09  3456.79  26.8020 -0.110 -0.126 -0.003327  183.323049   7   \n",
       "2015-06-10  3526.48  25.8610 -0.111 -0.117  0.019960  300.555651   8   \n",
       "2015-06-11  3551.91  26.3897 -0.111 -0.120  0.007185  279.249096   9   \n",
       "2015-06-12  3502.77  29.7725 -0.113 -0.125 -0.013931  302.564935  10   \n",
       "2015-06-15  3438.07  34.5593 -0.108 -0.119 -0.018644  359.901600  11   \n",
       "2015-06-16  3454.09  36.2222 -0.109 -0.125  0.004649  332.134168  12   \n",
       "2015-06-17  3428.76  34.7235 -0.109 -0.110 -0.007360  315.833038  13   \n",
       "2015-06-18  3450.45  34.7235 -0.109 -0.118  0.006306  299.246550  14   \n",
       "2015-06-19  3455.80  34.7235 -0.108 -0.120  0.001549  278.303868  15   \n",
       "\n",
       "                DF_t  F_tS   ARMVM_t         F_ti  \n",
       "b'Date'                                            \n",
       "2015-06-01  1.000038  3000  0.000000  3000.000000  \n",
       "2015-06-02  1.000036  2917  0.000000  3000.000000  \n",
       "2015-06-03  1.000033  2875  0.040173  2875.140910  \n",
       "2015-06-04  1.000030  2860  0.111062  2835.844331  \n",
       "2015-06-05  1.000027  2892  0.187647  2820.555454  \n",
       "2015-06-08  1.000025  2863  0.236836  2853.797523  \n",
       "2015-06-09  1.000022  2799  0.305743  2827.984087  \n",
       "2015-06-10  1.000019  2802  0.406065  2763.381425  \n",
       "2015-06-11  1.000016  2776  0.497784  2778.130966  \n",
       "2015-06-12  1.000014  2827  0.604188  2748.494268  \n",
       "2015-06-15  1.000011  2912  0.689681  2788.339034  \n",
       "2015-06-16  1.000008  2858  0.730901  2856.790440  \n",
       "2015-06-17  1.000005  2764  0.800957  2792.748076  \n",
       "2015-06-18  1.000003  2689  0.903601  2705.047722  \n",
       "2015-06-19  1.000000  2607  1.048771  2629.033294  "
      ]
     },
     "execution_count": 4,
     "metadata": {},
     "output_type": "execute_result"
    }
   ],
   "source": [
    "data"
   ]
  },
  {
   "cell_type": "code",
   "execution_count": 6,
   "metadata": {},
   "outputs": [
    {
     "data": {
      "text/plain": [
       "3605.7692307692309"
      ]
     },
     "execution_count": 6,
     "metadata": {},
     "output_type": "execute_result"
    }
   ],
   "source": [
    "# number of futures purchased on June 9th at strike of 26\n",
    "futures = 100000. / (2 * 26) * T / (T - data['t']['2015-06-09'])\n",
    "futures"
   ]
  },
  {
   "cell_type": "code",
   "execution_count": 7,
   "metadata": {},
   "outputs": [
    {
     "data": {
      "text/plain": [
       "2827.9840866529353"
      ]
     },
     "execution_count": 7,
     "metadata": {},
     "output_type": "execute_result"
    }
   ],
   "source": [
    "#Intraday futures price for variance contract \n",
    "F_ti = data['F_ti']['2015-06-09']\n",
    "F_ti"
   ]
  },
  {
   "cell_type": "code",
   "execution_count": 8,
   "metadata": {},
   "outputs": [
    {
     "data": {
      "text/plain": [
       "446.08408975063566"
      ]
     },
     "execution_count": 8,
     "metadata": {},
     "output_type": "execute_result"
    }
   ],
   "source": [
    "#traded variance strike\n",
    "sigma_t2 = (data['t']['2015-06-09'] * data['sigma**2']['2015-06-09']\n",
    "         + (T - data['t']['2015-06-09']) * 26 ** 2) / T\n",
    "sigma_t2"
   ]
  },
  {
   "cell_type": "code",
   "execution_count": 9,
   "metadata": {},
   "outputs": [
    {
     "data": {
      "text/plain": [
       "2776.4648130015858"
      ]
     },
     "execution_count": 9,
     "metadata": {},
     "output_type": "execute_result"
    }
   ],
   "source": [
    "#traded future price\n",
    "F_t = (data['DF_t']['2015-06-09'] *\n",
    "       (sigma_t2 - data['V6I1']['2015-06-01'] ** 2)\n",
    "              - data['ARMVM_t']['2015-06-09'] + 3000)\n",
    "F_t"
   ]
  },
  {
   "cell_type": "code",
   "execution_count": 10,
   "metadata": {},
   "outputs": [
    {
     "data": {
      "text/plain": [
       "10011291.393034564"
      ]
     },
     "execution_count": 10,
     "metadata": {},
     "output_type": "execute_result"
    }
   ],
   "source": [
    "#Trade value\n",
    "P_ti = futures * F_t\n",
    "P_ti"
   ]
  },
  {
   "cell_type": "markdown",
   "metadata": {},
   "source": [
    "#### Trade Matching\n",
    "\n",
    "* At end of day, trade in notional vega and volatility is confirmed\n",
    "* notional vega and vol converted into variance futures at futures settlement price\n",
    "* Same number of futures contracts purchased but at price of variance futures settlement price for the day\n",
    "\n",
    "\n",
    "#### Different traded volatilities\n",
    "\n",
    "* What is impact of vol on first day margining\n",
    "\n",
    "\n",
    "\n",
    "#### What happens after trade matching until maturity\n",
    "\n",
    "* Compute daily settlement price diffs\n"
   ]
  },
  {
   "cell_type": "code",
   "execution_count": 14,
   "metadata": {},
   "outputs": [
    {
     "data": {
      "text/plain": [
       "2799"
      ]
     },
     "execution_count": 14,
     "metadata": {},
     "output_type": "execute_result"
    }
   ],
   "source": [
    "F_tS = data['F_tS']['2015-06-09']\n",
    "F_tS\n",
    "\n"
   ]
  },
  {
   "cell_type": "code",
   "execution_count": 15,
   "metadata": {},
   "outputs": [
    {
     "data": {
      "text/plain": [
       "10092548.076923078"
      ]
     },
     "execution_count": 15,
     "metadata": {},
     "output_type": "execute_result"
    }
   ],
   "source": [
    "P_t = futures * F_tS\n",
    "P_t"
   ]
  },
  {
   "cell_type": "code",
   "execution_count": 16,
   "metadata": {},
   "outputs": [
    {
     "data": {
      "text/plain": [
       "81256.683888513595"
      ]
     },
     "execution_count": 16,
     "metadata": {},
     "output_type": "execute_result"
    }
   ],
   "source": [
    "P_t - P_ti"
   ]
  },
  {
   "cell_type": "code",
   "execution_count": 17,
   "metadata": {},
   "outputs": [
    {
     "data": {
      "text/plain": [
       "80199.999999999956"
      ]
     },
     "execution_count": 17,
     "metadata": {},
     "output_type": "execute_result"
    }
   ],
   "source": [
    "100000 * (data['V6I1']['2015-06-09'] - 26)"
   ]
  },
  {
   "cell_type": "code",
   "execution_count": 18,
   "metadata": {},
   "outputs": [
    {
     "data": {
      "text/plain": [
       "array([ 205.55075642,  222.08408975,  239.68408975,  258.35075642,\n",
       "        278.08408975,  298.88408975,  320.75075642,  343.68408975,\n",
       "        367.68408975,  392.75075642,  418.88408975])"
      ]
     },
     "execution_count": 18,
     "metadata": {},
     "output_type": "execute_result"
    }
   ],
   "source": [
    "import numpy as np\n",
    "trad_vols = np.arange(15, 25.01, 1)\n",
    "trad_vols\n",
    "\n",
    "sigma_t2 = (data['t']['2015-06-09'] * data['sigma**2']['2015-06-09']\n",
    "         + (T - data['t']['2015-06-09']) * trad_vols ** 2) / T\n",
    "sigma_t2"
   ]
  },
  {
   "cell_type": "code",
   "execution_count": 19,
   "metadata": {},
   "outputs": [
    {
     "data": {
      "text/plain": [
       "array([ 2535.92620765,  2552.45990336,  2570.06028912,  2588.72736492,\n",
       "        2608.46113077,  2629.26158666,  2651.12873261,  2674.06256859,\n",
       "        2698.06309463,  2723.13031071,  2749.26421683])"
      ]
     },
     "execution_count": 19,
     "metadata": {},
     "output_type": "execute_result"
    }
   ],
   "source": [
    "F_t = (data['DF_t']['2015-06-09']\n",
    "       * (sigma_t2 - data['V6I1']['2015-06-01'] ** 2)\n",
    "               - data['ARMVM_t']['2015-06-09'] + 3000)\n",
    "F_t"
   ]
  },
  {
   "cell_type": "code",
   "execution_count": 20,
   "metadata": {},
   "outputs": [
    {
     "data": {
      "text/plain": [
       "array([ 948583.3858882 ,  888966.69461993,  825503.76520532,\n",
       "        758194.59764436,  687039.19193707,  612037.54808344,\n",
       "        533189.66608347,  450495.54593716,  363955.18764451,\n",
       "        273568.59120552,  179335.75662018])"
      ]
     },
     "execution_count": 20,
     "metadata": {},
     "output_type": "execute_result"
    }
   ],
   "source": [
    "margins = futures * (F_tS - F_t)\n",
    "margins"
   ]
  },
  {
   "cell_type": "code",
   "execution_count": 21,
   "metadata": {},
   "outputs": [
    {
     "data": {
      "image/png": "[encoded data removed]",
      "text/plain": [
       "<matplotlib.figure.Figure at 0x1a15867e48>"
      ]
     },
     "metadata": {},
     "output_type": "display_data"
    }
   ],
   "source": [
    "import seaborn as sns; sns.set()\n",
    "import matplotlib\n",
    "matplotlib.rcParams['font.family'] = 'serif'\n",
    "%matplotlib inline\n",
    "\n",
    "results = pd.DataFrame({'margins': margins}, index=trad_vols)\n",
    "results.plot(figsize=(10, 6));"
   ]
  },
  {
   "cell_type": "code",
   "execution_count": 22,
   "metadata": {},
   "outputs": [
    {
     "data": {
      "text/plain": [
       "b'Date'\n",
       "2015-06-01     NaN\n",
       "2015-06-02   -83.0\n",
       "2015-06-03   -42.0\n",
       "2015-06-04   -15.0\n",
       "2015-06-05    32.0\n",
       "2015-06-08   -29.0\n",
       "2015-06-09   -64.0\n",
       "2015-06-10     3.0\n",
       "2015-06-11   -26.0\n",
       "2015-06-12    51.0\n",
       "2015-06-15    85.0\n",
       "2015-06-16   -54.0\n",
       "2015-06-17   -94.0\n",
       "2015-06-18   -75.0\n",
       "2015-06-19   -82.0\n",
       "Name: F_tS, dtype: float64"
      ]
     },
     "execution_count": 22,
     "metadata": {},
     "output_type": "execute_result"
    }
   ],
   "source": [
    "F_diffs = (data['F_tS'] - data['F_tS'].shift(1))\n",
    "F_diffs"
   ]
  },
  {
   "cell_type": "code",
   "execution_count": 23,
   "metadata": {},
   "outputs": [
    {
     "data": {
      "text/plain": [
       "b'Date'\n",
       "2015-06-09   -230769.230769\n",
       "2015-06-10     10817.307692\n",
       "2015-06-11    -93750.000000\n",
       "2015-06-12    183894.230769\n",
       "2015-06-15    306490.384615\n",
       "2015-06-16   -194711.538462\n",
       "2015-06-17   -338942.307692\n",
       "2015-06-18   -270432.692308\n",
       "2015-06-19   -295673.076923\n",
       "Name: F_tS, dtype: float64"
      ]
     },
     "execution_count": 23,
     "metadata": {},
     "output_type": "execute_result"
    }
   ],
   "source": [
    "margin_t = futures * F_diffs[F_diffs.index >= '2015-06-09']\n",
    "margin_t"
   ]
  },
  {
   "cell_type": "markdown",
   "metadata": {},
   "source": [
    "* Visualize how trading margin shifts for each strike through time"
   ]
  },
  {
   "cell_type": "code",
   "execution_count": 24,
   "metadata": {},
   "outputs": [
    {
     "data": {
      "text/html": [
       "<div>\n",
       "<style scoped>\n",
       "    .dataframe tbody tr th:only-of-type {\n",
       "        vertical-align: middle;\n",
       "    }\n",
       "\n",
       "    .dataframe tbody tr th {\n",
       "        vertical-align: top;\n",
       "    }\n",
       "\n",
       "    .dataframe thead th {\n",
       "        text-align: right;\n",
       "    }\n",
       "</style>\n",
       "<table border=\"1\" class=\"dataframe\">\n",
       "  <thead>\n",
       "    <tr style=\"text-align: right;\">\n",
       "      <th></th>\n",
       "      <th>15.0</th>\n",
       "      <th>16.0</th>\n",
       "      <th>17.0</th>\n",
       "      <th>18.0</th>\n",
       "      <th>19.0</th>\n",
       "      <th>20.0</th>\n",
       "      <th>21.0</th>\n",
       "      <th>22.0</th>\n",
       "      <th>23.0</th>\n",
       "      <th>24.0</th>\n",
       "      <th>25.0</th>\n",
       "    </tr>\n",
       "    <tr>\n",
       "      <th>b'Date'</th>\n",
       "      <th></th>\n",
       "      <th></th>\n",
       "      <th></th>\n",
       "      <th></th>\n",
       "      <th></th>\n",
       "      <th></th>\n",
       "      <th></th>\n",
       "      <th></th>\n",
       "      <th></th>\n",
       "      <th></th>\n",
       "      <th></th>\n",
       "    </tr>\n",
       "  </thead>\n",
       "  <tbody>\n",
       "    <tr>\n",
       "      <th>2015-06-09</th>\n",
       "      <td>948583.0</td>\n",
       "      <td>888967.0</td>\n",
       "      <td>825504.0</td>\n",
       "      <td>758195.0</td>\n",
       "      <td>687039.0</td>\n",
       "      <td>612038.0</td>\n",
       "      <td>533190.0</td>\n",
       "      <td>450496.0</td>\n",
       "      <td>363955.0</td>\n",
       "      <td>273569.0</td>\n",
       "      <td>179336.0</td>\n",
       "    </tr>\n",
       "    <tr>\n",
       "      <th>2015-06-10</th>\n",
       "      <td>10817.0</td>\n",
       "      <td>10817.0</td>\n",
       "      <td>10817.0</td>\n",
       "      <td>10817.0</td>\n",
       "      <td>10817.0</td>\n",
       "      <td>10817.0</td>\n",
       "      <td>10817.0</td>\n",
       "      <td>10817.0</td>\n",
       "      <td>10817.0</td>\n",
       "      <td>10817.0</td>\n",
       "      <td>10817.0</td>\n",
       "    </tr>\n",
       "    <tr>\n",
       "      <th>2015-06-11</th>\n",
       "      <td>-93750.0</td>\n",
       "      <td>-93750.0</td>\n",
       "      <td>-93750.0</td>\n",
       "      <td>-93750.0</td>\n",
       "      <td>-93750.0</td>\n",
       "      <td>-93750.0</td>\n",
       "      <td>-93750.0</td>\n",
       "      <td>-93750.0</td>\n",
       "      <td>-93750.0</td>\n",
       "      <td>-93750.0</td>\n",
       "      <td>-93750.0</td>\n",
       "    </tr>\n",
       "    <tr>\n",
       "      <th>2015-06-12</th>\n",
       "      <td>183894.0</td>\n",
       "      <td>183894.0</td>\n",
       "      <td>183894.0</td>\n",
       "      <td>183894.0</td>\n",
       "      <td>183894.0</td>\n",
       "      <td>183894.0</td>\n",
       "      <td>183894.0</td>\n",
       "      <td>183894.0</td>\n",
       "      <td>183894.0</td>\n",
       "      <td>183894.0</td>\n",
       "      <td>183894.0</td>\n",
       "    </tr>\n",
       "    <tr>\n",
       "      <th>2015-06-15</th>\n",
       "      <td>306490.0</td>\n",
       "      <td>306490.0</td>\n",
       "      <td>306490.0</td>\n",
       "      <td>306490.0</td>\n",
       "      <td>306490.0</td>\n",
       "      <td>306490.0</td>\n",
       "      <td>306490.0</td>\n",
       "      <td>306490.0</td>\n",
       "      <td>306490.0</td>\n",
       "      <td>306490.0</td>\n",
       "      <td>306490.0</td>\n",
       "    </tr>\n",
       "    <tr>\n",
       "      <th>2015-06-16</th>\n",
       "      <td>-194712.0</td>\n",
       "      <td>-194712.0</td>\n",
       "      <td>-194712.0</td>\n",
       "      <td>-194712.0</td>\n",
       "      <td>-194712.0</td>\n",
       "      <td>-194712.0</td>\n",
       "      <td>-194712.0</td>\n",
       "      <td>-194712.0</td>\n",
       "      <td>-194712.0</td>\n",
       "      <td>-194712.0</td>\n",
       "      <td>-194712.0</td>\n",
       "    </tr>\n",
       "    <tr>\n",
       "      <th>2015-06-17</th>\n",
       "      <td>-338942.0</td>\n",
       "      <td>-338942.0</td>\n",
       "      <td>-338942.0</td>\n",
       "      <td>-338942.0</td>\n",
       "      <td>-338942.0</td>\n",
       "      <td>-338942.0</td>\n",
       "      <td>-338942.0</td>\n",
       "      <td>-338942.0</td>\n",
       "      <td>-338942.0</td>\n",
       "      <td>-338942.0</td>\n",
       "      <td>-338942.0</td>\n",
       "    </tr>\n",
       "    <tr>\n",
       "      <th>2015-06-18</th>\n",
       "      <td>-270433.0</td>\n",
       "      <td>-270433.0</td>\n",
       "      <td>-270433.0</td>\n",
       "      <td>-270433.0</td>\n",
       "      <td>-270433.0</td>\n",
       "      <td>-270433.0</td>\n",
       "      <td>-270433.0</td>\n",
       "      <td>-270433.0</td>\n",
       "      <td>-270433.0</td>\n",
       "      <td>-270433.0</td>\n",
       "      <td>-270433.0</td>\n",
       "    </tr>\n",
       "    <tr>\n",
       "      <th>2015-06-19</th>\n",
       "      <td>-295673.0</td>\n",
       "      <td>-295673.0</td>\n",
       "      <td>-295673.0</td>\n",
       "      <td>-295673.0</td>\n",
       "      <td>-295673.0</td>\n",
       "      <td>-295673.0</td>\n",
       "      <td>-295673.0</td>\n",
       "      <td>-295673.0</td>\n",
       "      <td>-295673.0</td>\n",
       "      <td>-295673.0</td>\n",
       "      <td>-295673.0</td>\n",
       "    </tr>\n",
       "  </tbody>\n",
       "</table>\n",
       "</div>"
      ],
      "text/plain": [
       "                15.0      16.0      17.0      18.0      19.0      20.0  \\\n",
       "b'Date'                                                                  \n",
       "2015-06-09  948583.0  888967.0  825504.0  758195.0  687039.0  612038.0   \n",
       "2015-06-10   10817.0   10817.0   10817.0   10817.0   10817.0   10817.0   \n",
       "2015-06-11  -93750.0  -93750.0  -93750.0  -93750.0  -93750.0  -93750.0   \n",
       "2015-06-12  183894.0  183894.0  183894.0  183894.0  183894.0  183894.0   \n",
       "2015-06-15  306490.0  306490.0  306490.0  306490.0  306490.0  306490.0   \n",
       "2015-06-16 -194712.0 -194712.0 -194712.0 -194712.0 -194712.0 -194712.0   \n",
       "2015-06-17 -338942.0 -338942.0 -338942.0 -338942.0 -338942.0 -338942.0   \n",
       "2015-06-18 -270433.0 -270433.0 -270433.0 -270433.0 -270433.0 -270433.0   \n",
       "2015-06-19 -295673.0 -295673.0 -295673.0 -295673.0 -295673.0 -295673.0   \n",
       "\n",
       "                21.0      22.0      23.0      24.0      25.0  \n",
       "b'Date'                                                       \n",
       "2015-06-09  533190.0  450496.0  363955.0  273569.0  179336.0  \n",
       "2015-06-10   10817.0   10817.0   10817.0   10817.0   10817.0  \n",
       "2015-06-11  -93750.0  -93750.0  -93750.0  -93750.0  -93750.0  \n",
       "2015-06-12  183894.0  183894.0  183894.0  183894.0  183894.0  \n",
       "2015-06-15  306490.0  306490.0  306490.0  306490.0  306490.0  \n",
       "2015-06-16 -194712.0 -194712.0 -194712.0 -194712.0 -194712.0  \n",
       "2015-06-17 -338942.0 -338942.0 -338942.0 -338942.0 -338942.0  \n",
       "2015-06-18 -270433.0 -270433.0 -270433.0 -270433.0 -270433.0  \n",
       "2015-06-19 -295673.0 -295673.0 -295673.0 -295673.0 -295673.0  "
      ]
     },
     "execution_count": 24,
     "metadata": {},
     "output_type": "execute_result"
    }
   ],
   "source": [
    "results = pd.DataFrame(np.tile(margin_t, (len(trad_vols), 1)).T,\n",
    "                       index=margin_t.index,\n",
    "                       columns=trad_vols)\n",
    "results.loc['2015-06-09', :] = margins  # setting the first day margins\n",
    "np.round(results)"
   ]
  },
  {
   "cell_type": "code",
   "execution_count": 25,
   "metadata": {},
   "outputs": [
    {
     "data": {
      "image/png": "[encoded data removed]",
      "text/plain": [
       "<matplotlib.figure.Figure at 0x1a18faddd8>"
      ]
     },
     "metadata": {},
     "output_type": "display_data"
    }
   ],
   "source": [
    "results.cumsum().plot(figsize=(10, 6), title='cumulative P&L');"
   ]
  },
  {
   "cell_type": "code",
   "execution_count": null,
   "metadata": {},
   "outputs": [],
   "source": []
  }
 ],
 "metadata": {
  "kernelspec": {
   "display_name": "Python 3",
   "language": "python",
   "name": "python3"
  },
  "language_info": {
   "codemirror_mode": {
    "name": "ipython",
    "version": 3
   },
   "file_extension": ".py",
   "mimetype": "text/x-python",
   "name": "python",
   "nbconvert_exporter": "python",
   "pygments_lexer": "ipython3",
   "version": "3.6.3"
  }
 },
 "nbformat": 4,
 "nbformat_minor": 2
}
