{
 "cells": [
  {
   "cell_type": "markdown",
   "metadata": {},
   "source": [
    "### Walk Forward UIP\n",
    "+ Modification of the original strategy\n",
    "+ Doing a walk-forward cross-validation\n",
    "+ Use time-series split of the monthly factor/returns \n",
    "+ At each step, trade based on what our model c\n",
    "+ "
   ]
  },
  {
   "cell_type": "code",
   "execution_count": 134,
   "metadata": {},
   "outputs": [],
   "source": [
    "from math import floor\n",
    "from sklearn.linear_model import LinearRegression\n",
    "from sklearn.ensemble import RandomForestClassifier\n",
    "from sklearn.model_selection import train_test_split as tts\n",
    "from sklearn.model_selection import TimeSeriesSplit\n",
    "from sklearn import tree\n",
    "import datetime as datetime\n",
    "\n",
    "\n",
    "import quandl as ql\n",
    "import xarray as xr\n",
    "import numpy as np\n",
    "import pandas as pd\n",
    "import matplotlib.pyplot as plt\n",
    "import seaborn as sns\n",
    "import talib\n",
    "\n",
    "%matplotlib inline"
   ]
  },
  {
   "cell_type": "code",
   "execution_count": 135,
   "metadata": {},
   "outputs": [],
   "source": [
    "ds_currency = xr.open_zarr('currency_pairs_uip')"
   ]
  },
  {
   "cell_type": "code",
   "execution_count": 136,
   "metadata": {},
   "outputs": [
    {
     "data": {
      "text/html": [
       "<div>\n",
       "<style scoped>\n",
       "    .dataframe tbody tr th:only-of-type {\n",
       "        vertical-align: middle;\n",
       "    }\n",
       "\n",
       "    .dataframe tbody tr th {\n",
       "        vertical-align: top;\n",
       "    }\n",
       "\n",
       "    .dataframe thead th {\n",
       "        text-align: right;\n",
       "    }\n",
       "</style>\n",
       "<table border=\"1\" class=\"dataframe\">\n",
       "  <thead>\n",
       "    <tr style=\"text-align: right;\">\n",
       "      <th></th>\n",
       "      <th>aus_usd</th>\n",
       "      <th>cad_usd</th>\n",
       "      <th>eur_usd</th>\n",
       "      <th>jpy_usd</th>\n",
       "      <th>usd_gbp</th>\n",
       "    </tr>\n",
       "    <tr>\n",
       "      <th>Date</th>\n",
       "      <th></th>\n",
       "      <th></th>\n",
       "      <th></th>\n",
       "      <th></th>\n",
       "      <th></th>\n",
       "    </tr>\n",
       "  </thead>\n",
       "  <tbody>\n",
       "    <tr>\n",
       "      <th>2004-01-02</th>\n",
       "      <td>0.7576</td>\n",
       "      <td>1.2900</td>\n",
       "      <td>1.2592</td>\n",
       "      <td>106.95</td>\n",
       "      <td>1.7902</td>\n",
       "    </tr>\n",
       "    <tr>\n",
       "      <th>2004-01-05</th>\n",
       "      <td>0.7682</td>\n",
       "      <td>1.2803</td>\n",
       "      <td>1.2679</td>\n",
       "      <td>106.10</td>\n",
       "      <td>1.8085</td>\n",
       "    </tr>\n",
       "    <tr>\n",
       "      <th>2004-01-06</th>\n",
       "      <td>0.7702</td>\n",
       "      <td>1.2824</td>\n",
       "      <td>1.2773</td>\n",
       "      <td>106.20</td>\n",
       "      <td>1.8245</td>\n",
       "    </tr>\n",
       "    <tr>\n",
       "      <th>2004-01-07</th>\n",
       "      <td>0.7685</td>\n",
       "      <td>1.2884</td>\n",
       "      <td>1.2665</td>\n",
       "      <td>106.19</td>\n",
       "      <td>1.8193</td>\n",
       "    </tr>\n",
       "    <tr>\n",
       "      <th>2004-01-08</th>\n",
       "      <td>0.7755</td>\n",
       "      <td>1.2790</td>\n",
       "      <td>1.2772</td>\n",
       "      <td>106.17</td>\n",
       "      <td>1.8338</td>\n",
       "    </tr>\n",
       "  </tbody>\n",
       "</table>\n",
       "</div>"
      ],
      "text/plain": [
       "            aus_usd  cad_usd  eur_usd  jpy_usd  usd_gbp\n",
       "Date                                                   \n",
       "2004-01-02   0.7576   1.2900   1.2592   106.95   1.7902\n",
       "2004-01-05   0.7682   1.2803   1.2679   106.10   1.8085\n",
       "2004-01-06   0.7702   1.2824   1.2773   106.20   1.8245\n",
       "2004-01-07   0.7685   1.2884   1.2665   106.19   1.8193\n",
       "2004-01-08   0.7755   1.2790   1.2772   106.17   1.8338"
      ]
     },
     "execution_count": 136,
     "metadata": {},
     "output_type": "execute_result"
    }
   ],
   "source": [
    "df_currency = ds_currency.to_dataframe().unstack(level=1)\n",
    "df_currency.columns = df_currency.columns.droplevel(0)\n",
    "df_currency = df_currency.rename_axis(None, axis=1)\n",
    "df_currency.head()"
   ]
  },
  {
   "cell_type": "code",
   "execution_count": 144,
   "metadata": {},
   "outputs": [],
   "source": [
    "def compute_returns(period_df, pair):\n",
    "    logged = np.log(1 + period_df.pct_change()).rename({pair: 'log_returns'})\n",
    "    return logged\n",
    "\n",
    "def compute_reversal(period_df, period, mu, sigma):\n",
    "    \n",
    "    reversal = (period_df.shift(period) - mu)/sigma\n",
    "    return reversal\n",
    "\n",
    "def compute_momentum(period_df, lag_start, lag_end):\n",
    "    momentum = period_df.shift(lag_start) - period_df.shift(lag_end)\n",
    "    return momentum\n",
    "\n",
    "def compute_factors(df,pair):\n",
    "    '''\n",
    "    Computes momentum and mean reversal factors \n",
    "    as well as log returns for each currency pair and period\n",
    "    \n",
    "    Parameters\n",
    "    ==========\n",
    "    df: pd.Dataframe of date by currency price\n",
    "    \n",
    "    \n",
    "    Returns\n",
    "    =======\n",
    "    tuple of monthly data, mu, sigma and factor and returns dataframe\n",
    "    \n",
    "    '''\n",
    "    \n",
    "    mu = df.mean()\n",
    "    sigma = df.std()\n",
    "    \n",
    "    df_monthly = df.resample('BM').apply(lambda x: x[-1])\n",
    "    \n",
    "    logged = np.log(1 + df_monthly.pct_change()).rename({pair: 'log_returns'})\n",
    "    reversal = (df_monthly.shift(1) - mu)/sigma\n",
    "    momentum = df_monthly.shift(1) - df_monthly.shift(4)\n",
    "    \n",
    "    ctd = pd.concat([reversal,momentum,logged],axis=1)\n",
    "    ctd.columns  = ['reversal', 'momentum', 'logged_returns']\n",
    "    ctd = ctd.dropna()\n",
    "    \n",
    "    return ctd\n",
    "\n",
    "\n",
    "def compute_OLS(res, train_index, test_index, pair):\n",
    "    '''\n",
    "    Parameters\n",
    "    ==========\n",
    "    df: pd.Dataframe of period by currency_pair\n",
    "    pair: str of currency pair\n",
    "    \n",
    "    \n",
    "    Returns\n",
    "    =======\n",
    "    dictionary of pd.Series of predicted returns and sklearn.LinearRegression fitted model\n",
    "    \n",
    "    \n",
    "    '''\n",
    "\n",
    "    X_train = res[:train_index[-1]][['reversal', 'momentum']]\n",
    "    X_test = res[train_index[-1]:][['reversal', 'momentum']]\n",
    "    y_train = res[:train_index[-1]]['logged_returns']\n",
    "    y_test = res[train_index[-1]:]['logged_returns']\n",
    "    \n",
    "    \n",
    "    model = LinearRegression()\n",
    "    model.fit(X_train,y_train)\n",
    "    model.predict(X_test)\n",
    "    pred_returns = pd.Series(model.predict(X_test).flatten(), index=y_test.index, name=pair)\n",
    "    \n",
    "    return pred_returns\n",
    "    \n",
    "def generate_trades(predictions_df):\n",
    "    '''\n",
    "    Takes a dataframe of period returns by currency pair\n",
    "    sorts them from highest to lowest and then assigns a value of \n",
    "    1/-1 to the highest/lowest values for each period. \n",
    "    \n",
    "    Long/short positions are not required. If the worst performing of \n",
    "    the period is positive, only a long is taken. Similarly, if all \n",
    "    period returns were negative only the most negative receives is marked \n",
    "    -1, indicating a short position. \n",
    "    \n",
    "    The trades are generated for the out of sample period. \n",
    "    \n",
    "    Parameters\n",
    "    ==========\n",
    "    predictions_df: pd.DataFrame of period by currency pair \n",
    "    \n",
    "    \n",
    "    Returns\n",
    "    =======\n",
    "    pd.DataFrame of period by currency pair\n",
    "    '''\n",
    "    trades = []\n",
    "    for i, row in predictions_df.iterrows():\n",
    "        _sorted = row.sort_values(axis=0,ascending=False)\n",
    "        #for condition that they the long is positive and the short is negative\n",
    "        if _sorted[0]*_sorted[-1] < 0:\n",
    "            trade = {_sorted.index[0]: 1,_sorted.index[-1]: -1}\n",
    "\n",
    "        elif _sorted[0] and _sorted[-1] > 0:\n",
    "            trade = {_sorted.index[0]: 1}\n",
    "\n",
    "        else: \n",
    "            trade = {_sorted.index[-1]: -1}\n",
    "        trades.append(trade)\n",
    "        \n",
    "    return pd.DataFrame(trades, index=predictions_df.index)"
   ]
  },
  {
   "cell_type": "code",
   "execution_count": 145,
   "metadata": {},
   "outputs": [],
   "source": [
    "tscv = TimeSeriesSplit(n_splits=10)\n",
    "fold = 1\n",
    "all_trades = []\n",
    "\n",
    "for train_index, test_index in tscv.split(res):\n",
    "    pred_list = []\n",
    "    for i in df_currency.columns:\n",
    "        df = df_currency[i]\n",
    "        #this is recomputing unnecessarily for each time step but whatever\n",
    "        res = compute_factors(df, i)\n",
    "        #set up data\n",
    "        #generate period/pair specific prediction\n",
    "        pred_list.append(compute_OLS(res, train_index, test_index, i))\n",
    "    #set up all pair predictions\n",
    "    preds = pd.concat(pred_list, axis =1)\n",
    "    #determine our trades\n",
    "    trades = generate_trades(preds)\n",
    "    all_trades.append(trades)\n",
    "\n",
    "trade_df = pd.concat(all_trades, axis=0)"
   ]
  },
  {
   "cell_type": "code",
   "execution_count": 147,
   "metadata": {},
   "outputs": [],
   "source": [
    "monthly_resampled = df_currency.resample('BM').apply(lambda x: x[-1])\n",
    "all_returns = []\n",
    "for i in monthly_resampled.columns:\n",
    "    all_returns.append(compute_returns(monthly_resampled[i], i))"
   ]
  },
  {
   "cell_type": "code",
   "execution_count": 148,
   "metadata": {},
   "outputs": [],
   "source": [
    "returns_df = pd.concat(all_returns,axis=1).loc[trade_df.head().index[0]:,]*trade_df"
   ]
  },
  {
   "cell_type": "code",
   "execution_count": 149,
   "metadata": {},
   "outputs": [],
   "source": [
    "returns_df['summed_returns'] = returns_df.sum(axis=1)"
   ]
  },
  {
   "cell_type": "code",
   "execution_count": 150,
   "metadata": {},
   "outputs": [
    {
     "data": {
      "text/plain": [
       "<matplotlib.axes._subplots.AxesSubplot at 0x1c1ec1f860>"
      ]
     },
     "execution_count": 150,
     "metadata": {},
     "output_type": "execute_result"
    },
    {
     "data": {
      "image/png": "[encoded data removed]",
      "text/plain": [
       "<Figure size 1080x504 with 1 Axes>"
      ]
     },
     "metadata": {
      "needs_background": "light"
     },
     "output_type": "display_data"
    }
   ],
   "source": [
    "fig = plt.figure(figsize=(15,7))\n",
    "returns_df['summed_returns'].cumsum().plot()"
   ]
  },
  {
   "cell_type": "code",
   "execution_count": null,
   "metadata": {},
   "outputs": [],
   "source": []
  }
 ],
 "metadata": {
  "kernelspec": {
   "display_name": "Python [conda env:py35_trading]",
   "language": "python",
   "name": "conda-env-py35_trading-py"
  },
  "language_info": {
   "codemirror_mode": {
    "name": "ipython",
    "version": 3
   },
   "file_extension": ".py",
   "mimetype": "text/x-python",
   "name": "python",
   "nbconvert_exporter": "python",
   "pygments_lexer": "ipython3",
   "version": "3.5.6"
  }
 },
 "nbformat": 4,
 "nbformat_minor": 2
}
