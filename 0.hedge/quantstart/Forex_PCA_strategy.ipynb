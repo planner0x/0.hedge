{
 "cells": [
  {
   "cell_type": "code",
   "execution_count": 3,
   "metadata": {},
   "outputs": [],
   "source": [
    "import quandl as ql\n",
    "import xarray as xr\n",
    "import numpy as np\n",
    "import pandas as pd\n",
    "import matplotlib.pyplot as plt\n",
    "import seaborn as sns\n",
    "import talib\n",
    "\n",
    "from math import floor\n",
    "from sklearn.linear_model import LogisticRegression\n",
    "from sklearn.ensemble import RandomForestClassifier\n",
    "from sklearn.model_selection import train_test_split as tts\n",
    "from sklearn import tree\n",
    "\n",
    "%matplotlib inline\n",
    "\n",
    "start_date = '2008-01-01'\n",
    "end_date = '2019-01-4'\n",
    "key = 'YgkL6nxrm_SsUs7so2MM'"
   ]
  },
  {
   "cell_type": "markdown",
   "metadata": {},
   "source": [
    "# Multcurrency strategy using Machine Learning"
   ]
  },
  {
   "cell_type": "markdown",
   "metadata": {},
   "source": [
    "##### This notebook intends to reproduce the analysis found [here](https://www.quantconnect.com/research/cache/36263e80928dd99306a022093b4a6876.html) on [quantconnect](https://www.quantconnect.com/)\n",
    "\n",
    "+ The original paper is [here](https://www.researchgate.net/publication/281424639_Using_a_principal_component_analysis_for_multi-currencies-trading_in_the_foreign_exchange_market)"
   ]
  },
  {
   "cell_type": "code",
   "execution_count": 4,
   "metadata": {},
   "outputs": [],
   "source": [
    "pairs = dict(eur_usd=\"FRED/DEXUSEU\", \n",
    "             aus_usd='FRED/DEXUSAL', \n",
    "            # brl_usd='FRED/DEXBZUS', \n",
    "             usd_gbp='FRED/DEXUSUK',\n",
    "             cad_usd='FRED/DEXCAUS',\n",
    "             jpy_usd='FRED/DEXJPUS',\n",
    "            # mxn_usd='FRED/DEXMXUS',\n",
    "             #usd_rub='BOE/XUDLBK69',\n",
    "             #usd_try='BOE/XUDLBK75',\n",
    "             #eur_idr='ECB/EURIDR',\n",
    "             #eur_jpy='ECB/EURJPY',\n",
    "             #eur_rub='ECB/EURRUB',\n",
    "             #eur_try='ECB/EURTRY'\n",
    "            )"
   ]
  },
  {
   "cell_type": "code",
   "execution_count": 5,
   "metadata": {},
   "outputs": [],
   "source": [
    "das = []\n",
    "for k, v in pairs.items():\n",
    "    data = ql.get(v, start_date='2008-01-01', end_date='2019-01-19', api_key=key)\n",
    "    das.append(xr.DataArray(data, coords=[data.index, [k]], dims=['Date', 'currency_pair']))\n",
    "   \n"
   ]
  },
  {
   "cell_type": "code",
   "execution_count": 6,
   "metadata": {},
   "outputs": [],
   "source": [
    "ds_currency = xr.concat(das, dim='currency_pair').to_dataset(name='price')   "
   ]
  },
  {
   "cell_type": "code",
   "execution_count": 7,
   "metadata": {},
   "outputs": [
    {
     "data": {
      "text/plain": [
       "<xarray.backends.zarr.ZarrStore at 0x1c1366e978>"
      ]
     },
     "execution_count": 7,
     "metadata": {},
     "output_type": "execute_result"
    }
   ],
   "source": [
    "ds_currency.to_zarr('currency_pairs', 'w')\n",
    "#ds_currency = xr.open_zarr('currency_pairs/')"
   ]
  },
  {
   "cell_type": "markdown",
   "metadata": {},
   "source": [
    "#### To perform PCA we need to do the following\n",
    "+ Standardize the data.\n",
    "+ Obtain the Eigenvectors and Eigenvalues from the covariance matrix or correlation matrix, or perform Singular Vector Decomposition.\n",
    "+ Sort eigenvalues in descending order and choose the 𝑘 eigenvectors that correspond to the 𝑘 largest eigenvalues where 𝑘 is the number of dimensions of the new feature subspace (𝑘≤𝑑)/.\n",
    "+ Construct the projection matrix 𝐖 from the selected 𝑘 eigenvectors.\n",
    "+ Transform the original dataset 𝐗 via 𝐖 to obtain a 𝑘-dimensional feature subspace 𝐘."
   ]
  },
  {
   "cell_type": "code",
   "execution_count": 188,
   "metadata": {},
   "outputs": [
    {
     "data": {
      "text/plain": [
       "<xarray.DataArray 'price' (Date: 2760, currency_pair: 5)>\n",
       "array([[109.7   ,   0.8812,   1.4738,   1.9824,   0.9922],\n",
       "       [109.58  ,   0.8819,   1.4736,   1.9733,   0.9905],\n",
       "       [108.38  ,   0.8762,   1.4786,   1.9757,   0.9988],\n",
       "       ...,\n",
       "       [109.22  ,   0.7   ,   1.1357,   1.2598,   1.3591],\n",
       "       [108.07  ,   0.7014,   1.1399,   1.2633,   1.3484],\n",
       "       [108.29  ,   0.7108,   1.141 ,   1.274 ,   1.3399]])\n",
       "Coordinates:\n",
       "  * Date           (Date) datetime64[ns] 2008-01-02 2008-01-03 2008-01-04 ...\n",
       "  * currency_pair  (currency_pair) object 'jpy_usd' 'aus_usd' 'eur_usd' ..."
      ]
     },
     "execution_count": 188,
     "metadata": {},
     "output_type": "execute_result"
    }
   ],
   "source": [
    "ds_currency['price'].load()"
   ]
  },
  {
   "cell_type": "markdown",
   "metadata": {},
   "source": [
    "#### Because our JPYUSD rates are so much larger than the other rates lets standardize our data"
   ]
  },
  {
   "cell_type": "code",
   "execution_count": 191,
   "metadata": {},
   "outputs": [],
   "source": [
    "from sklearn.preprocessing import StandardScaler\n",
    "X_std = StandardScaler().fit_transform(ds_currency.price)"
   ]
  },
  {
   "cell_type": "markdown",
   "metadata": {},
   "source": [
    "#### Compute the covariance matrix\n",
    "+ To compute this matrix we need the mean vector and the standardized data matrix\n",
    "+ We subtract the mean vector from the standardized data matrix\n",
    "+ Then we take the dot product of the transpose of that matrix and itself. \n",
    "+ This matrix is normalize by dividing by one minus the number of observat"
   ]
  },
  {
   "cell_type": "code",
   "execution_count": 192,
   "metadata": {},
   "outputs": [
    {
     "name": "stdout",
     "output_type": "stream",
     "text": [
      "Covariance matrix \n",
      "[[ 1.00036245 -0.74381338 -0.56546973 -0.29270215  0.76465816]\n",
      " [-0.74381338  1.00036245  0.6194482   0.54417428 -0.90756589]\n",
      " [-0.56546973  0.6194482   1.00036245  0.82553994 -0.8085467 ]\n",
      " [-0.29270215  0.54417428  0.82553994  1.00036245 -0.71542786]\n",
      " [ 0.76465816 -0.90756589 -0.8085467  -0.71542786  1.00036245]]\n"
     ]
    }
   ],
   "source": [
    "mean_vec = np.mean(X_std, axis=0)\n",
    "cov_mat = (X_std - mean_vec).T.dot((X_std - mean_vec)) / (X_std.shape[0]-1)\n",
    "print('Covariance matrix \\n%s' %cov_mat)"
   ]
  },
  {
   "cell_type": "code",
   "execution_count": 193,
   "metadata": {},
   "outputs": [
    {
     "name": "stdout",
     "output_type": "stream",
     "text": [
      "NumPy covariance matrix: \n",
      "[[ 1.00036245 -0.74381338 -0.56546973 -0.29270215  0.76465816]\n",
      " [-0.74381338  1.00036245  0.6194482   0.54417428 -0.90756589]\n",
      " [-0.56546973  0.6194482   1.00036245  0.82553994 -0.8085467 ]\n",
      " [-0.29270215  0.54417428  0.82553994  1.00036245 -0.71542786]\n",
      " [ 0.76465816 -0.90756589 -0.8085467  -0.71542786  1.00036245]]\n"
     ]
    }
   ],
   "source": [
    "print('NumPy covariance matrix: \\n%s' %np.cov(X_std.T))"
   ]
  },
  {
   "cell_type": "code",
   "execution_count": 194,
   "metadata": {},
   "outputs": [],
   "source": [
    "eigenvalues, eigenvectors = np.linalg.eig(cov_mat)"
   ]
  },
  {
   "cell_type": "code",
   "execution_count": 195,
   "metadata": {},
   "outputs": [
    {
     "data": {
      "text/plain": [
       "array([3.74227655, 0.83316047, 0.28571932, 0.09608199, 0.04457391])"
      ]
     },
     "execution_count": 195,
     "metadata": {},
     "output_type": "execute_result"
    }
   ],
   "source": [
    "eigenvalues"
   ]
  },
  {
   "cell_type": "code",
   "execution_count": 196,
   "metadata": {},
   "outputs": [
    {
     "data": {
      "text/plain": [
       "array([[-0.40277926,  0.59888346,  0.51079742, -0.44396019, -0.14523363],\n",
       "       [ 0.45965877, -0.30403826,  0.63897851, -0.24771113,  0.47604644],\n",
       "       [ 0.45720279,  0.35227125, -0.52473141, -0.60066661,  0.17529163],\n",
       "       [ 0.40353654,  0.64667429,  0.13728099,  0.61254476,  0.15783999],\n",
       "       [-0.50458552,  0.08134284, -0.19131999,  0.07434441,  0.83465344]])"
      ]
     },
     "execution_count": 196,
     "metadata": {},
     "output_type": "execute_result"
    }
   ],
   "source": [
    "eigenvectors"
   ]
  },
  {
   "cell_type": "code",
   "execution_count": 197,
   "metadata": {},
   "outputs": [
    {
     "name": "stdout",
     "output_type": "stream",
     "text": [
      "[0.74818413 0.16657172 0.05712316 0.01920944 0.00891155]\n"
     ]
    },
    {
     "data": {
      "text/plain": [
       "Text(0, 0.5, 'Variance Explained')"
      ]
     },
     "execution_count": 197,
     "metadata": {},
     "output_type": "execute_result"
    },
    {
     "data": {
      "image/png": "[encoded data removed]",
      "text/plain": [
       "<Figure size 1080x360 with 2 Axes>"
      ]
     },
     "metadata": {
      "needs_background": "light"
     },
     "output_type": "display_data"
    }
   ],
   "source": [
    "plt.figure(figsize=(15,5))\n",
    "plt.subplot(1,2,1)#plot the eigenvalues which is how much of the variance is explained by that compnonent\n",
    "plt.plot(range(0,len(eigenvalues)),eigenvalues/sum(eigenvalues),'ro-')\n",
    "print(eigenvalues/sum(eigenvalues))\n",
    "plt.ylabel('Percentage Variance Explained')\n",
    "plt.xlabel('Principal Component')\n",
    "plt.subplot(1,2,2)#plot the cumulative variance of each component\n",
    "plt.plot(range(0,len(eigenvalues)),np.cumsum(eigenvalues),'bo-')\n",
    "plt.xlabel('Principal Component')\n",
    "plt.ylabel('Variance Explained')"
   ]
  },
  {
   "cell_type": "code",
   "execution_count": 198,
   "metadata": {},
   "outputs": [
    {
     "data": {
      "text/plain": [
       "array([0.16223113, 0.3586614 , 0.26091401, 0.19710065, 0.02109281])"
      ]
     },
     "execution_count": 198,
     "metadata": {},
     "output_type": "execute_result"
    }
   ],
   "source": [
    "weights = eigenvectors[0]*eigenvectors[0]\n",
    "weights\n",
    "\n"
   ]
  },
  {
   "cell_type": "code",
   "execution_count": 199,
   "metadata": {},
   "outputs": [
    {
     "data": {
      "text/plain": [
       "array([-0.46583858, -0.43392081, -0.42213582, ..., -1.16194661,\n",
       "       -1.10196039, -1.07654441])"
      ]
     },
     "execution_count": 199,
     "metadata": {},
     "output_type": "execute_result"
    }
   ],
   "source": [
    "np.dot(X_std, eigenvectors[0])"
   ]
  },
  {
   "cell_type": "code",
   "execution_count": 200,
   "metadata": {},
   "outputs": [
    {
     "name": "stdout",
     "output_type": "stream",
     "text": [
      "The first principal Components is\n"
     ]
    },
    {
     "data": {
      "text/plain": [
       "array([ 2.07150455,  2.06180817,  2.06795457, ..., -2.86542381,\n",
       "       -2.76271913, -2.67247006])"
      ]
     },
     "execution_count": 200,
     "metadata": {},
     "output_type": "execute_result"
    },
    {
     "data": {
      "image/png": "[encoded data removed]",
      "text/plain": [
       "<Figure size 1008x432 with 2 Axes>"
      ]
     },
     "metadata": {
      "needs_background": "light"
     },
     "output_type": "display_data"
    }
   ],
   "source": [
    "PC = eigenvectors.T.dot(X_std.T)\n",
    "\n",
    "np.dot(X_std, eigenvectors[0].T)\n",
    "#principal_components[0]\n",
    "#norm_price['price'].T.values\n",
    "\n",
    "plt.figure(figsize=(14,6))\n",
    "plt.subplot(121); plt.imshow(X_std.T.dot(X_std),interpolation='none')\n",
    "plt.subplot(122); plt.imshow(PC.dot(PC.T),interpolation='none')\n",
    "\n",
    "# plt.subplot(133); plt.imshow(PC_new.dot(PC_new.T),interpolation='none')\n",
    "print(\"The first principal Components is\")\n",
    "PC_1 = PC[0]\n",
    "PC_1"
   ]
  },
  {
   "cell_type": "markdown",
   "metadata": {},
   "source": [
    "##### We use our first principal component for signal generation"
   ]
  },
  {
   "cell_type": "code",
   "execution_count": 201,
   "metadata": {},
   "outputs": [],
   "source": [
    "g = np.dot(X_std, eigenvectors[0].T)\n",
    "g = pd.DataFrame({'g':g}, index = ds_currency.Date)\n",
    "# Generate signals\n",
    "threshold = 0.02\n",
    "signal = []\n",
    "pct_change = g.pct_change().dropna()\n",
    "for i in pct_change.values:\n",
    "    if i  > threshold:\n",
    "        signal.append(1)\n",
    "    else:\n",
    "        signal.append(0)\n",
    "response = pd.DataFrame({'signal':signal}, index = pct_change.index)"
   ]
  },
  {
   "cell_type": "code",
   "execution_count": 202,
   "metadata": {},
   "outputs": [
    {
     "data": {
      "text/plain": [
       "2760"
      ]
     },
     "execution_count": 202,
     "metadata": {},
     "output_type": "execute_result"
    }
   ],
   "source": [
    "#Our raw projection score\n",
    "len(g)"
   ]
  },
  {
   "cell_type": "code",
   "execution_count": 203,
   "metadata": {},
   "outputs": [
    {
     "data": {
      "text/plain": [
       "[0, 0, 1, 0, 0, 0, 0, 0, 1, 1]"
      ]
     },
     "execution_count": 203,
     "metadata": {},
     "output_type": "execute_result"
    }
   ],
   "source": [
    "#our signal is a sequence of 0 and 1\n",
    "signal[:10]"
   ]
  },
  {
   "cell_type": "markdown",
   "metadata": {},
   "source": [
    "#### Questions for further review\n",
    "+ Does every asset have its own projection score g?\n",
    "+ What do we do with our signal of ones and zeros? Do we multiply it by our weights vector?\n",
    "+ If not how do the weights factor in here?\n",
    "+ Are you all long/short in this strategy? \n",
    "+ Can you have some scenarios that are long one security and short others?\n"
   ]
  },
  {
   "cell_type": "code",
   "execution_count": 204,
   "metadata": {},
   "outputs": [],
   "source": [
    "#from the paper, this value has been determined as the necessary window\n",
    "#it represents approximately one quarter of the trading years for a given year\n",
    "\n",
    "period = 55\n",
    "\n",
    "#Relative position\n",
    "#Indicates where the spread between todays price and \n",
    "#the period minimum sits in relation to the max and min spread for the period. \n",
    "RP = []\n",
    "for i in range(period,len(g)):\n",
    "    RP.append((g.iloc[i].values-np.min(g.iloc[i-period:i].values))/(np.max(g.iloc[i-period:i].values)-np.min(g.iloc[i-period:i].values))*100)\n",
    "\n",
    "\n",
    "# Relative strength index  \n",
    "#RSI helps us understand the general trend and its direction relative some lookback period\n",
    "#It is scaled and bounded by 0 and 100. Values close to 0 and 100 indicate the strongest trends. \n",
    "RSI = talib.RSI(g.values.flatten(), period)\n",
    "RSI = RSI[~np.isnan(RSI)]\n",
    "\n",
    "# Momentum\n",
    "MOM = (g/g.shift(period)).dropna()*100\n",
    "\n",
    "# Moving average convergence-divergence\n",
    "#MACD is computed by subtracting the 12-week moving average from the 26 week moving average\n",
    "#Basically its the difference between two moving average.\n",
    "#We should experiment with the values to see what actually holds information value\n",
    "macd_slow = period\n",
    "macd_fast = int(np.floor(period * 0.5))\n",
    "MACD, macdsignal, macdhist = talib.MACDEXT(g.values.flatten(), fastperiod=macd_fast, fastmatype=talib.MA_Type.EMA, slowperiod=macd_slow, slowmatype=talib.MA_Type.EMA, signalperiod=2, signalmatype=0)\n",
    "MACD = MACD[~np.isnan(MACD)]*10000\n",
    "\n",
    "\n",
    "predictor = pd.DataFrame({'RP': np.array([v[0] for v in RP]), 'RSI':RSI,'MOM':MOM.values.flatten(),'MACD':MACD}, index=g.index[period:])"
   ]
  },
  {
   "cell_type": "code",
   "execution_count": 205,
   "metadata": {},
   "outputs": [],
   "source": [
    "predictor_var = predictor.values\n",
    "df = pd.concat([predictor, response], axis=1).dropna()\n",
    "response_var = df['signal']"
   ]
  },
  {
   "cell_type": "code",
   "execution_count": 206,
   "metadata": {},
   "outputs": [
    {
     "name": "stderr",
     "output_type": "stream",
     "text": [
      "/Users/justinsimcock/miniconda3/envs/py35_trading/lib/python3.5/site-packages/sklearn/linear_model/logistic.py:432: FutureWarning: Default solver will be changed to 'lbfgs' in 0.22. Specify a solver to silence this warning.\n",
      "  FutureWarning)\n"
     ]
    },
    {
     "data": {
      "text/plain": [
       "14"
      ]
     },
     "execution_count": 206,
     "metadata": {},
     "output_type": "execute_result"
    }
   ],
   "source": [
    "X_train, X_test, y_train, y_test = tts(predictor_var, response_var, test_size=0.80, random_state=42)\n",
    "# from sklearn.linear_model import LogisticRegression\n",
    "clf = LogisticRegression()\n",
    "clf = clf.fit(X_train,y_train)\n",
    "predict_value = clf.predict(X_test)\n",
    "predict_value.sum()"
   ]
  },
  {
   "cell_type": "code",
   "execution_count": 207,
   "metadata": {},
   "outputs": [
    {
     "data": {
      "text/plain": [
       "817"
      ]
     },
     "execution_count": 207,
     "metadata": {},
     "output_type": "execute_result"
    }
   ],
   "source": [
    "clf = tree.DecisionTreeClassifier()\n",
    "clf = clf.fit(X_train,y_train)\n",
    "predict_value = clf.predict(X_test)\n",
    "predict_value.sum()"
   ]
  },
  {
   "cell_type": "code",
   "execution_count": 208,
   "metadata": {},
   "outputs": [
    {
     "data": {
      "text/plain": [
       "172"
      ]
     },
     "execution_count": 208,
     "metadata": {},
     "output_type": "execute_result"
    }
   ],
   "source": [
    "\n",
    "clf = RandomForestClassifier(n_estimators=100,max_depth=4)\n",
    "clf.fit(X_train,y_train)\n",
    "predict_value = clf.predict(X_test)\n",
    "predict_value.sum()"
   ]
  },
  {
   "cell_type": "markdown",
   "metadata": {},
   "source": [
    "#### Pipelining the strategy we need the following routines\n",
    "+ Do PCA to get principal components\n",
    "+ compute trade signals according to algo defined in paper\n",
    "+ compute indicators \n",
    "+ Run classifier on data "
   ]
  },
  {
   "cell_type": "code",
   "execution_count": 209,
   "metadata": {},
   "outputs": [],
   "source": [
    "#implement PCA\n",
    "def do_PCA(price_data):\n",
    "    '''\n",
    "    Performs PCA on a standardized dataset and \n",
    "    the projection of the first eigenvector onto the \n",
    "    price data as well as the computing weights. \n",
    "    \n",
    "    \n",
    "    Parameters\n",
    "    ==========\n",
    "    price_data:pd.Dataframe\n",
    "    \n",
    "    \n",
    "    Returns\n",
    "    =======\n",
    "    g: pd.DataFrame\n",
    "    weights: np.array\n",
    "    \n",
    "    '''\n",
    "    \n",
    "    from sklearn.preprocessing import StandardScaler\n",
    "    X_std = StandardScaler().fit_transform(price_data)\n",
    "    \n",
    "    mean_vec = np.mean(X_std, axis=0)\n",
    "    cov_mat = (X_std - mean_vec).T.dot((X_std - mean_vec)) / (X_std.shape[0]-1)\n",
    "    # eigen decomposition of sample covariance matrix\n",
    "    eigenvalues, eigenvectors = np.linalg.eig(cov_mat)\n",
    "    g = X_std.dot(eigenvectors[0].T)    \n",
    "    weights = eigenvectors[0]*eigenvectors[0]\n",
    "    return g, weights\n",
    "\n",
    "#generate signal\n",
    "def generateSignal(g, threshold):\n",
    "    '''\n",
    "    Computes the signal for buying and selling a basket of currencies\n",
    "    \n",
    "    Parameters\n",
    "    ==========\n",
    "    g: pd.DataFrame\n",
    "    threshold: float\n",
    "    \n",
    "    Returns\n",
    "    =======\n",
    "    pd.DataFrame\n",
    "    \n",
    "    '''\n",
    "    \n",
    "    \n",
    "    signal = []\n",
    "    pct_change = g.pct_change().dropna()\n",
    "    for i in pct_change.values:\n",
    "        if i  > threshold:\n",
    "            signal.append(1)\n",
    "        else:\n",
    "            signal.append(0)\n",
    "            \n",
    "    return pd.DataFrame({'signal':signal}, index = pct_change.index)\n",
    "\n",
    "#generate the indicators \n",
    "def indicator(period,g):\n",
    "    '''\n",
    "    Generates a matrix of normalized indicator values from the signal generation process\n",
    "    The values in g are used as the input to generate the indicators\n",
    "    \n",
    "    This matrix is our data matrix for the training/testing period.\n",
    "    \n",
    "    \n",
    "    Parameters\n",
    "    ==========\n",
    "    period: int\n",
    "    g: pd.DataFrame of projection values (floats)\n",
    "    \n",
    "    Returns\n",
    "    =======\n",
    "    pd.DataFrame of normalized indicators \n",
    "    \n",
    "    '''\n",
    "\n",
    "    #Relative position\n",
    "    #Indicates where the spread between todays price and \n",
    "    #the period minimum sits in relation to the max and min spread for the period. \n",
    "    RP = []\n",
    "    for i in range(period,len(g)):\n",
    "        RP.append((g.iloc[i]-np.min(g.iloc[i-period:i]))/(np.max(g.iloc[i-period:i])-np.min(g.iloc[i-period:i]))*100)\n",
    "\n",
    "\n",
    "    # Relative strength index  \n",
    "    #RSI helps us understand the general trend and its direction relative some lookback period\n",
    "    #It is scaled and bounded by 0 and 100. Values close to 0 and 100 indicate the strongest trends. \n",
    "    RSI = talib.RSI(g.values.flatten(), period)\n",
    "    RSI = RSI[~np.isnan(RSI)]\n",
    "\n",
    "    # Momentum\n",
    "    MOM = (g/g.shift(period)).dropna()*100\n",
    "\n",
    "    # Moving average convergence-divergence\n",
    "    #MACD is computed by subtracting the 12-week moving average from the 26 week moving average\n",
    "    #Basically its the difference between two moving average.\n",
    "    #We should experiment with the values to see what actually holds information value\n",
    "    macd_slow = period\n",
    "    macd_fast = int(np.floor(period * 0.5))\n",
    "    MACD, macdsignal, macdhist = talib.MACDEXT(g.values.flatten(), fastperiod=macd_fast, fastmatype=talib.MA_Type.EMA, slowperiod=macd_slow, slowmatype=talib.MA_Type.EMA, signalperiod=2, signalmatype=0)\n",
    "    MACD = MACD[~np.isnan(MACD)]*10000\n",
    "\n",
    "\n",
    "    predictor = pd.DataFrame({'RP': np.array([v[0] for v in RP]), 'RSI':RSI,'MOM':MOM.values.flatten(),'MACD':MACD}, index=g.index[period:])\n",
    "\n",
    "    return predictor\n",
    "\n",
    "#produce our list of trading predictions\n",
    "def classifier(ctype,train_x, train_y, test_x):\n",
    "    '''\n",
    "    Fits a training set of X's and y's and predicts for out of sample X's in test set\n",
    "    \n",
    "    Parameters\n",
    "    ==========\n",
    "    ctype: str sklearn classifier \n",
    "    train_x: ndarray matrix of values\n",
    "    train_y: 1D array of targets with same length of train_x\n",
    "    test_x: ndarray/matrix \n",
    "    \n",
    "    Returns\n",
    "    =======\n",
    "    1-D np.array\n",
    "    '''\n",
    "    \n",
    "    if ctype == 'LogisticRegression':\n",
    "\n",
    "        clf = LogisticRegression()\n",
    "        \n",
    "    elif ctype == 'DecisionTree':\n",
    "        clf = tree.DecisionTreeClassifier()\n",
    "    \n",
    "    \n",
    "    elif ctype == 'RandomForest':\n",
    "        clf = RandomForestClassifier(n_estimators=100,max_depth=2)\n",
    "    \n",
    "    else:\n",
    "        print('no such classifier')\n",
    "\n",
    "        \n",
    "    clf = clf.fit(train_x,train_y)\n",
    "    predict_value = clf.predict(test_x)\n",
    "    \n",
    "    return list(predict_value)"
   ]
  },
  {
   "cell_type": "code",
   "execution_count": 214,
   "metadata": {},
   "outputs": [],
   "source": [
    "def predict(classifier_type, price_data, period, threshold):\n",
    "    '''\n",
    "    Run all the steps of the routine through here\n",
    "    \n",
    "    \n",
    "    Parameters\n",
    "    ==========\n",
    "    classifier_type: str\n",
    "    price_data: xr.Dataset\n",
    "    period: int\n",
    "    threshold: float\n",
    "    \n",
    "    Returns\n",
    "    =======\n",
    "    pd.Dataframe of price and signal \n",
    "    '''\n",
    "    \n",
    "    df_price = pd.DataFrame(price_data.price.values, \n",
    "                            columns=price_data.currency_pair.values, \n",
    "                            index=price_data.Date)\n",
    "    \n",
    "    \n",
    "    index = normed_df.index\n",
    "    num_windows = len(df_price)/period\n",
    "    length = num_windows * period\n",
    "    df_price = df_price[int(-length):]\n",
    "\n",
    "    signal = []\n",
    "    date = []\n",
    "    for i in range(0,int(num_windows-2)):\n",
    "        start = i*period\n",
    "        stop = (i+3)*period\n",
    "        df_price_temp = df_price[start:stop]\n",
    "        g, weights = do_PCA(df_price_temp)\n",
    "        g = pd.DataFrame({'g':g}, index = df_price_temp.index)\n",
    "\n",
    "        predictor = indicator(period,g)\n",
    "        train_x = predictor[:int(len(predictor)/2)]\n",
    "        train_y = generateSignal(g[int(len(g)/3-1):int(len(g)/3*2)], threshold)\n",
    "        test_x = predictor[int(len(predictor)/2):]\n",
    "    \n",
    "    \n",
    "        pred_value = classifier(classifier_type, train_x, train_y.values.ravel(), test_x)\n",
    "        date.extend(test_x.index)\n",
    "        signal.extend(pred_value)\n",
    "\n",
    "    df_signal  = pd.DataFrame({'signal':signal},index = date) \n",
    "    return pd.concat([df_price, df_signal], axis=1).dropna()"
   ]
  },
  {
   "cell_type": "code",
   "execution_count": 215,
   "metadata": {},
   "outputs": [],
   "source": [
    "###not my code copied directly from the notebook.\n",
    "#https://www.quantconnect.com/research/cache/36263e80928dd99306a022093b4a6876.html\n",
    "\n",
    "class NetProfit:\n",
    "    \"\"\"\n",
    "    This class calculates the net profit for strategy trading individual stock\n",
    "    \n",
    "    Args:\n",
    "        price(pandas.Series) : The price series of stock indexed by date\n",
    "        signal(pandas.Series): The trading signal series of stock indexed by date (long 1, short -1, holding 0)\n",
    "\n",
    "    Attributes:\n",
    "        price(pandas.Series) : The price series of stock indexed by date\n",
    "        signal(pandas.Series): The trading signal series of stock indexed by date (long 1, short -1, holding 0)\n",
    "        quantity(pandas.Series): The number of holding shares indexed by date \n",
    "    \n",
    "    Note:\n",
    "        If there is no quantity, the default value of quantity is 1 share at each time step)       \n",
    "    \"\"\"\n",
    "    \n",
    "    def __init__(self, price, signal):\n",
    "        self.price = price\n",
    "        self.signal = signal\n",
    "        self.quantity = pd.Series([1]*len(self.price),index = self.price.index)\n",
    "        \n",
    "        \n",
    "    def net_profit(self):\n",
    "       \n",
    "        \"\"\"\n",
    "        calculate the net profit\n",
    "        \n",
    "        Returns(pandas.Series):\n",
    "                The net profit for strategy        \n",
    "        \"\"\"\n",
    "        #   log_return = np.log(self.price/self.price.shift(1))\n",
    "        #   cum_return = np.exp(((log_return)*self.signal.shift(1)).cumsum())*self.quantity\n",
    "        pct_return = self.price.pct_change()\n",
    "        cum_return = ((pct_return)*self.signal.shift(1) + 1).cumprod()*self.quantity \n",
    "        net_profit = cum_return.dropna()*self.price[0] #- self.quantity * self.price[0]\n",
    "        return net_profit   \n",
    "    \n",
    "class PortfolioNetProfit:\n",
    "    \"\"\"\n",
    "    This class calculates the net profit for strategy trading a porfolio of stocks or singal stock\n",
    "    \n",
    "    Args:\n",
    "        data(dict): A dictionary stores the data for multiple stocks \n",
    "                    keys(string): \n",
    "                                symbols\n",
    "                    values(dataframe): \n",
    "                                Index: date \n",
    "                                Columns: ['price','signal','quantity'] or ['price','signal']         \n",
    "    \"\"\"\n",
    "    \n",
    "    def __init__(self,data):\n",
    "        self.data = data\n",
    "        \n",
    "    def net_profit(self):\n",
    "        \"\"\"\n",
    "        Calculate the net profit for the portfolio\n",
    "        \n",
    "        Returns(pandas.Series):\n",
    "                The net profit for strategy\n",
    "            \n",
    "        \"\"\"\n",
    "        popped = data_dict.popitem()\n",
    "        \n",
    "        net_profit_port = pd.Series([0]*(len(popped[1])),index = popped[1].index)\n",
    "       \n",
    "        for i in self.data:\n",
    "            df = self.data[i]\n",
    "            net_profit_each = NetProfit(df['price'],df['signal'])\n",
    "            try:\n",
    "                net_profit_each.quantity = df['quantity'] # if there is no quantity, the default is 1 \n",
    "            except:\n",
    "                pass\n",
    "            cum_return = net_profit_each.net_profit()\n",
    "            net_profit_port = net_profit_port.add(cum_return,fill_value=0)        \n",
    "\n",
    "        return net_profit_port[1:]\n",
    "    \n",
    "    def curve(self):\n",
    "        \"\"\"\n",
    "        Plot the equity curve for strategy contain a portfolio of stocks\n",
    "        \"\"\"\n",
    "        net_profit_port = self.net_profit()\n",
    "        plt.figure(figsize =(15,7))\n",
    "        plt.plot(net_profit_port.index, net_profit_port,label ='Portfolio Net Profit')\n",
    "        plt.legend()        "
   ]
  },
  {
   "cell_type": "code",
   "execution_count": 212,
   "metadata": {},
   "outputs": [],
   "source": [
    "df = predict('RandomForest',ds_currency,period =55,threshold = 0.03)\n",
    "data_dict = {}\n",
    "cash_each = 10000\n",
    "\n",
    "for i in df.columns[:-1]:\n",
    "    data_dict[i] = pd.DataFrame({'price':df[i].values,\n",
    "                                 'signal':df['signal'].values}, index = df[i].index) "
   ]
  },
  {
   "cell_type": "code",
   "execution_count": 213,
   "metadata": {},
   "outputs": [
    {
     "data": {
      "image/png": "[encoded data removed]",
      "text/plain": [
       "<Figure size 1080x504 with 1 Axes>"
      ]
     },
     "metadata": {
      "needs_background": "light"
     },
     "output_type": "display_data"
    }
   ],
   "source": [
    "profit_strategy = PortfolioNetProfit(data_dict).net_profit()\n",
    "# plot the equity curve for the strategy\n",
    "PortfolioNetProfit(data_dict).curve()"
   ]
  },
  {
   "cell_type": "code",
   "execution_count": null,
   "metadata": {},
   "outputs": [],
   "source": []
  },
  {
   "cell_type": "code",
   "execution_count": null,
   "metadata": {},
   "outputs": [],
   "source": []
  }
 ],
 "metadata": {
  "kernelspec": {
   "display_name": "Python [conda env:py35_trading]",
   "language": "python",
   "name": "conda-env-py35_trading-py"
  },
  "language_info": {
   "codemirror_mode": {
    "name": "ipython",
    "version": 3
   },
   "file_extension": ".py",
   "mimetype": "text/x-python",
   "name": "python",
   "nbconvert_exporter": "python",
   "pygments_lexer": "ipython3",
   "version": "3.5.6"
  }
 },
 "nbformat": 4,
 "nbformat_minor": 2
}
