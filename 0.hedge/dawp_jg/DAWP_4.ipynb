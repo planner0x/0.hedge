{
 "cells": [
  {
   "cell_type": "markdown",
   "metadata": {},
   "source": [
    "#### Risk Neutral Valuation"
   ]
  },
  {
   "cell_type": "markdown",
   "metadata": {},
   "source": [
    "* Market models must include absence of arbitrage features and no free lunch features with vanishing risk\n",
    "* market model martingales: Stochastic process that does not change its value on average\n",
    "* Discounted prices processes for attainable options are also martingales giving rise to probabilistic approach to option pricing\n",
    "* Equivalent martingale measure: the notion of a fair investment\n",
    "* Value of European Option expiring at some maturity is expected payoff at that date under EMM discounted back to today by the risk-free rate"
   ]
  }
 ],
 "metadata": {
  "kernelspec": {
   "display_name": "Python 3",
   "language": "python",
   "name": "python3"
  },
  "language_info": {
   "codemirror_mode": {
    "name": "ipython",
    "version": 3
   },
   "file_extension": ".py",
   "mimetype": "text/x-python",
   "name": "python",
   "nbconvert_exporter": "python",
   "pygments_lexer": "ipython3",
   "version": "3.6.3"
  }
 },
 "nbformat": 4,
 "nbformat_minor": 2
}
