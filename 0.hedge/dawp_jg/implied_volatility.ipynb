{
 "cells": [
  {
   "cell_type": "code",
   "execution_count": 1,
   "metadata": {},
   "outputs": [],
   "source": [
    "import pandas as pd\n",
    "import numpy as np\n",
    "import matplotlib.pyplot as plt\n",
    "import matplotlib as mpl\n",
    "import quandl as ql\n",
    "import seaborn as sns\n",
    "import scipy.stats\n",
    "import pandas_datareader as pdr\n",
    "from datetime import datetime\n",
    "mpl.rcParams['font.family'] = 'serif'\n",
    "%matplotlib inline"
   ]
  },
  {
   "cell_type": "markdown",
   "metadata": {},
   "source": [
    "#### Stylied facts about Implied Volatility Surfaces\n",
    "* OTM implied vol is higher than ATM implied vol showing a 'smile'\n",
    "* Smiles present since 1987 crash\n",
    "* Smiles more pronounced for short-term than long-term. This is called volatility term structure\n"
   ]
  },
  {
   "cell_type": "code",
   "execution_count": 3,
   "metadata": {},
   "outputs": [],
   "source": [
    "import ES50_imp_vol as ES50"
   ]
  },
  {
   "cell_type": "code",
   "execution_count": 27,
   "metadata": {},
   "outputs": [
    {
     "data": {
      "text/plain": [
       "1412035200000000000"
      ]
     },
     "execution_count": 27,
     "metadata": {},
     "output_type": "execute_result"
    }
   ],
   "source": [
    "data = pd.HDFStore('../dawp/python27/03_stf/es50_option_data.h5', 'r')#['data']\n"
   ]
  },
  {
   "cell_type": "code",
   "execution_count": 20,
   "metadata": {},
   "outputs": [],
   "source": [
    "# data_imp_vol = ES50.calculate_imp_vols(data)"
   ]
  },
  {
   "cell_type": "code",
   "execution_count": 8,
   "metadata": {},
   "outputs": [],
   "source": [
    "es_url = 'http://www.stoxx.com/download/historical_values/hbrbcpe.txt'\n",
    "# column names to be used\n",
    "cols = ['Date', 'SX5P', 'SX5E', 'SXXP', 'SXXE',\n",
    "        'SXXF', 'SXXA', 'DK5F', 'DKXF', 'DEL']\n",
    "# reading the data with pandas\n",
    "es = pd.read_csv(es_url,  # filename\n",
    "                 header=None,  # ignore column names\n",
    "                 index_col=0,  # index column (dates)\n",
    "                 parse_dates=True,  # parse these dates\n",
    "                 dayfirst=True,  # format of dates\n",
    "                 skiprows=4,  # ignore these rows\n",
    "                 sep=';',  # data separator\n",
    "                 names=cols)  # use these column names\n",
    "# deleting the helper column\n",
    "del es['DEL']\n",
    "S0 = es['SX5E']['30-09-2014']\n",
    "r = -0.05"
   ]
  },
  {
   "cell_type": "code",
   "execution_count": 28,
   "metadata": {},
   "outputs": [
    {
     "data": {
      "text/html": [
       "<div>\n",
       "<style scoped>\n",
       "    .dataframe tbody tr th:only-of-type {\n",
       "        vertical-align: middle;\n",
       "    }\n",
       "\n",
       "    .dataframe tbody tr th {\n",
       "        vertical-align: top;\n",
       "    }\n",
       "\n",
       "    .dataframe thead th {\n",
       "        text-align: right;\n",
       "    }\n",
       "</style>\n",
       "<table border=\"1\" class=\"dataframe\">\n",
       "  <thead>\n",
       "    <tr style=\"text-align: right;\">\n",
       "      <th></th>\n",
       "      <th>SX5P</th>\n",
       "      <th>SX5E</th>\n",
       "      <th>SXXP</th>\n",
       "      <th>SXXE</th>\n",
       "      <th>SXXF</th>\n",
       "      <th>SXXA</th>\n",
       "      <th>DK5F</th>\n",
       "      <th>DKXF</th>\n",
       "    </tr>\n",
       "    <tr>\n",
       "      <th>Date</th>\n",
       "      <th></th>\n",
       "      <th></th>\n",
       "      <th></th>\n",
       "      <th></th>\n",
       "      <th></th>\n",
       "      <th></th>\n",
       "      <th></th>\n",
       "      <th></th>\n",
       "    </tr>\n",
       "  </thead>\n",
       "  <tbody>\n",
       "    <tr>\n",
       "      <th>1986-12-31</th>\n",
       "      <td>775.00</td>\n",
       "      <td>900.82</td>\n",
       "      <td>82.76</td>\n",
       "      <td>98.58</td>\n",
       "      <td>98.06</td>\n",
       "      <td>69.06</td>\n",
       "      <td>645.26</td>\n",
       "      <td>65.56</td>\n",
       "    </tr>\n",
       "    <tr>\n",
       "      <th>1987-01-01</th>\n",
       "      <td>775.00</td>\n",
       "      <td>900.82</td>\n",
       "      <td>82.76</td>\n",
       "      <td>98.58</td>\n",
       "      <td>98.06</td>\n",
       "      <td>69.06</td>\n",
       "      <td>645.26</td>\n",
       "      <td>65.56</td>\n",
       "    </tr>\n",
       "    <tr>\n",
       "      <th>1987-01-02</th>\n",
       "      <td>770.89</td>\n",
       "      <td>891.78</td>\n",
       "      <td>82.57</td>\n",
       "      <td>97.80</td>\n",
       "      <td>97.43</td>\n",
       "      <td>69.37</td>\n",
       "      <td>647.62</td>\n",
       "      <td>65.81</td>\n",
       "    </tr>\n",
       "    <tr>\n",
       "      <th>1987-01-05</th>\n",
       "      <td>771.89</td>\n",
       "      <td>898.33</td>\n",
       "      <td>82.82</td>\n",
       "      <td>98.60</td>\n",
       "      <td>98.19</td>\n",
       "      <td>69.16</td>\n",
       "      <td>649.94</td>\n",
       "      <td>65.82</td>\n",
       "    </tr>\n",
       "    <tr>\n",
       "      <th>1987-01-06</th>\n",
       "      <td>775.92</td>\n",
       "      <td>902.32</td>\n",
       "      <td>83.28</td>\n",
       "      <td>99.19</td>\n",
       "      <td>98.83</td>\n",
       "      <td>69.50</td>\n",
       "      <td>652.49</td>\n",
       "      <td>66.06</td>\n",
       "    </tr>\n",
       "  </tbody>\n",
       "</table>\n",
       "</div>"
      ],
      "text/plain": [
       "              SX5P    SX5E   SXXP   SXXE   SXXF   SXXA    DK5F   DKXF\n",
       "Date                                                                 \n",
       "1986-12-31  775.00  900.82  82.76  98.58  98.06  69.06  645.26  65.56\n",
       "1987-01-01  775.00  900.82  82.76  98.58  98.06  69.06  645.26  65.56\n",
       "1987-01-02  770.89  891.78  82.57  97.80  97.43  69.37  647.62  65.81\n",
       "1987-01-05  771.89  898.33  82.82  98.60  98.19  69.16  649.94  65.82\n",
       "1987-01-06  775.92  902.32  83.28  99.19  98.83  69.50  652.49  66.06"
      ]
     },
     "execution_count": 28,
     "metadata": {},
     "output_type": "execute_result"
    }
   ],
   "source": [
    "es.head()"
   ]
  },
  {
   "cell_type": "code",
   "execution_count": 37,
   "metadata": {},
   "outputs": [
    {
     "data": {
      "text/html": [
       "<div>\n",
       "<style scoped>\n",
       "    .dataframe tbody tr th:only-of-type {\n",
       "        vertical-align: middle;\n",
       "    }\n",
       "\n",
       "    .dataframe tbody tr th {\n",
       "        vertical-align: top;\n",
       "    }\n",
       "\n",
       "    .dataframe thead th {\n",
       "        text-align: right;\n",
       "    }\n",
       "</style>\n",
       "<table border=\"1\" class=\"dataframe\">\n",
       "  <thead>\n",
       "    <tr style=\"text-align: right;\">\n",
       "      <th></th>\n",
       "      <th>Date</th>\n",
       "      <th>Strike</th>\n",
       "      <th>Call</th>\n",
       "      <th>Maturity</th>\n",
       "      <th>Put</th>\n",
       "    </tr>\n",
       "  </thead>\n",
       "  <tbody>\n",
       "    <tr>\n",
       "      <th>498</th>\n",
       "      <td>1412035200000000000</td>\n",
       "      <td>3750.0</td>\n",
       "      <td>27.4</td>\n",
       "      <td>1442534400000000000</td>\n",
       "      <td>635.9</td>\n",
       "    </tr>\n",
       "    <tr>\n",
       "      <th>499</th>\n",
       "      <td>1412035200000000000</td>\n",
       "      <td>3800.0</td>\n",
       "      <td>21.8</td>\n",
       "      <td>1442534400000000000</td>\n",
       "      <td>680.3</td>\n",
       "    </tr>\n",
       "    <tr>\n",
       "      <th>500</th>\n",
       "      <td>1412035200000000000</td>\n",
       "      <td>3850.0</td>\n",
       "      <td>17.2</td>\n",
       "      <td>1442534400000000000</td>\n",
       "      <td>725.7</td>\n",
       "    </tr>\n",
       "    <tr>\n",
       "      <th>501</th>\n",
       "      <td>1412035200000000000</td>\n",
       "      <td>3900.0</td>\n",
       "      <td>13.4</td>\n",
       "      <td>1442534400000000000</td>\n",
       "      <td>772.0</td>\n",
       "    </tr>\n",
       "    <tr>\n",
       "      <th>502</th>\n",
       "      <td>1412035200000000000</td>\n",
       "      <td>3950.0</td>\n",
       "      <td>10.4</td>\n",
       "      <td>1442534400000000000</td>\n",
       "      <td>818.9</td>\n",
       "    </tr>\n",
       "  </tbody>\n",
       "</table>\n",
       "</div>"
      ],
      "text/plain": [
       "                    Date  Strike  Call             Maturity    Put\n",
       "498  1412035200000000000  3750.0  27.4  1442534400000000000  635.9\n",
       "499  1412035200000000000  3800.0  21.8  1442534400000000000  680.3\n",
       "500  1412035200000000000  3850.0  17.2  1442534400000000000  725.7\n",
       "501  1412035200000000000  3900.0  13.4  1442534400000000000  772.0\n",
       "502  1412035200000000000  3950.0  10.4  1442534400000000000  818.9"
      ]
     },
     "execution_count": 37,
     "metadata": {},
     "output_type": "execute_result"
    }
   ],
   "source": [
    "data = pd.HDFStore('../dawp/python36/03_stf/es50_option_data.h5', 'r')\n",
    "data['data'].tail()"
   ]
  },
  {
   "cell_type": "code",
   "execution_count": null,
   "metadata": {},
   "outputs": [],
   "source": []
  }
 ],
 "metadata": {
  "kernelspec": {
   "display_name": "Python [conda env:py35_trading]",
   "language": "python",
   "name": "conda-env-py35_trading-py"
  },
  "language_info": {
   "codemirror_mode": {
    "name": "ipython",
    "version": 3
   },
   "file_extension": ".py",
   "mimetype": "text/x-python",
   "name": "python",
   "nbconvert_exporter": "python",
   "pygments_lexer": "ipython3",
   "version": "3.5.6"
  }
 },
 "nbformat": 4,
 "nbformat_minor": 2
}
