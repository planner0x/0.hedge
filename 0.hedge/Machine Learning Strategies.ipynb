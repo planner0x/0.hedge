{
 "cells": [
  {
   "cell_type": "markdown",
   "metadata": {},
   "source": [
    "## Target Variable\n",
    "\n",
    "You must answer the question: What are you trying to predict? "
   ]
  },
  {
   "cell_type": "markdown",
   "metadata": {},
   "source": [
    "## Featuers\n",
    "\n",
    "What features/predictors will you use to predict the outcome of the target variable?\n"
   ]
  },
  {
   "cell_type": "markdown",
   "metadata": {},
   "source": [
    "## Feature Selection\n",
    "\n",
    "* Signal to noise \n",
    "* How do you know which features/predictors will have information and which will be totaly garbage?\n",
    "* This part is more important than the machine learning algo you choose\n",
    "\n",
    "### Feature Selection Strategies\n",
    "* Identify correlated features and select one to represent that piece of information \n",
    "* Evaluate information content with entropy or decision tree algorithms\n",
    "* Evaluate information content indirectly via comparison with random noise (Baruta in R)\n",
    "* Use PCA to create a new signal (feature) with lower dimensionality\n",
    "* Genetic Optimization (overfitting? )\n"
   ]
  },
  {
   "cell_type": "markdown",
   "metadata": {},
   "source": [
    "## Machine learning model selection\n",
    "\n",
    "* Supervised vs Unsupervised vs Reinforcement\n",
    "* Different libraries nad packages"
   ]
  },
  {
   "cell_type": "code",
   "execution_count": 3,
   "metadata": {
    "collapsed": true
   },
   "outputs": [],
   "source": [
    "## Train your data\n",
    "\n"
   ]
  },
  {
   "cell_type": "code",
   "execution_count": null,
   "metadata": {
    "collapsed": true
   },
   "outputs": [],
   "source": []
  }
 ],
 "metadata": {
  "kernelspec": {
   "display_name": "Python 3",
   "language": "python",
   "name": "python3"
  },
  "language_info": {
   "codemirror_mode": {
    "name": "ipython",
    "version": 3
   },
   "file_extension": ".py",
   "mimetype": "text/x-python",
   "name": "python",
   "nbconvert_exporter": "python",
   "pygments_lexer": "ipython3",
   "version": "3.8.5"
  }
 },
 "nbformat": 4,
 "nbformat_minor": 2
}
