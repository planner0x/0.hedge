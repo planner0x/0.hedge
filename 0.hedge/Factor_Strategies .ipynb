{
 "cells": [
  {
   "cell_type": "markdown",
   "metadata": {},
   "source": [
    "## Factor Strategies"
   ]
  },
  {
   "cell_type": "markdown",
   "metadata": {},
   "source": [
    "Size\n",
    "-----\n",
    "\n",
    "* A size strategy is a strategy that looks at market cap of different assets and goes long/short based on this factor\n",
    "* For example, you could short all large cap companies and go long on small cap companies\n",
    "* What is the underlying assumption about this strategy?\n",
    "    * 'Small' capitalization indicates there is large room for growth \n",
    "    * 'Big' capitalization indicates there is not much room for growth and it may be o\n",
    "    \n",
    "* Under what conditions does this assumption break down?"
   ]
  },
  {
   "cell_type": "markdown",
   "metadata": {},
   "source": [
    "Momentum\n",
    "--------\n",
    "\n",
    "* A momentum strategy shorts losers and goes long for winners\n",
    "* For example, if a we set some time dimension of our momentum threshold for 20 days we could say all assets \n",
    "that have fallen the past 20 days we short and all those that have risen we go long\n",
    "* What is the underlying assumption for this strategy?\n",
    "    * Something like a body in motion will stay in motion\n",
    "    \n",
    "* Under what conditions does this assumption break down?"
   ]
  },
  {
   "cell_type": "markdown",
   "metadata": {},
   "source": [
    "Low Volatility\n",
    "-------------\n",
    "\n",
    "* Go long on assets with low-vol and short on high-vol assets\n",
    "* What is the underlying assumption of this strategy?\n",
    "    * Low volatility assets will perform better on a risk adjusted basis because other market participants prefer low-vol assets\n",
    "    \n",
    "* Under what conditions does this break down?\n",
    "    * If market participants actually prefer volatile assets then over medium to long periods of time volatile assets will perform better than low-vol"
   ]
  },
  {
   "cell_type": "markdown",
   "metadata": {},
   "source": [
    "Mean Reversion\n",
    "--------------\n",
    "\n",
    "* This strategy is the logical opposite of the momentum strategy. \n",
    "\n",
    "* Operationally, you short the most recent winners and go long the most recent losers\n",
    "* The underlying assumption is that most/all outlier trends are unsustainable and eventually return to a long-run average\n",
    "\n",
    "* When does this strategy break down?\n",
    "    * This strategy absolutely breaks down under a momentum strategy where the momentum trend persists longer than your model would predict\n",
    "    * It will also break down under conditions of a phase transition when the underlying behavior of an assets price shifts fundamentally to a new regime state"
   ]
  },
  {
   "cell_type": "markdown",
   "metadata": {},
   "source": [
    "Pairs Trading\n",
    "------------\n",
    "\n",
    "* This is the equivalent of mean reversion with regard to the relationship among different assets\n",
    "* If we have two companies like Nike and Reebok we can understand the pattern of their relative price movements\n",
    "* When that pattern deviates for some period of time, we can make the bet that the pattern will revert to its long-term trend\n",
    "* Pairs trading is a market neutral strategy\n",
    "\n",
    "Operationally \n",
    "* If there is a temorary divergence in trend, the strategy is to short the 'better' performing asset and go long the 'underperforming' asset. \n",
    "* In this way you'd make money on both sides of the trade as both assets return to their long-run spread. \n"
   ]
  },
  {
   "cell_type": "markdown",
   "metadata": {},
   "source": [
    "Long-short Basket\n",
    "-----------------\n",
    "\n",
    "* This is an extension of Pairs trading but with a basket of assets\n",
    "* You have some sense of how a basket of assets behaves together and go long and short on specific assets depending on there divergence from trend and the belief that each asset will revert to its long-run trend\n",
    "* This is also a market neutral strategy as our long position == short position\n",
    "\n"
   ]
  },
  {
   "cell_type": "markdown",
   "metadata": {},
   "source": [
    "Ranking"
   ]
  },
  {
   "cell_type": "code",
   "execution_count": null,
   "metadata": {
    "collapsed": true
   },
   "outputs": [],
   "source": []
  }
 ],
 "metadata": {
  "kernelspec": {
   "display_name": "Python [conda env:py35_trading]",
   "language": "python",
   "name": "conda-env-py35_trading-py"
  },
  "language_info": {
   "codemirror_mode": {
    "name": "ipython",
    "version": 3
   },
   "file_extension": ".py",
   "mimetype": "text/x-python",
   "name": "python",
   "nbconvert_exporter": "python",
   "pygments_lexer": "ipython3",
   "version": "3.5.6"
  }
 },
 "nbformat": 4,
 "nbformat_minor": 2
}
