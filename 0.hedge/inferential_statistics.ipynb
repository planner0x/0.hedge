{
 "cells": [
  {
   "cell_type": "markdown",
   "metadata": {},
   "source": [
    "Hypothesis Testing\n",
    "\n",
    "    -What is the Null Hypothesis\n",
    "    -What is the alternative Hypothesis\n",
    "    -What is a p-value\n"
   ]
  },
  {
   "cell_type": "markdown",
   "metadata": {},
   "source": [
    "1. When comparing two populations we need to be able to compare them in the same terms/dimension/basis\n",
    "2. To do this, we need a z-score\n",
    "3. What information is contained in the z-score? The number of standard deviations away from the mean a given statistic is. \n",
    "4. To compute a z-score, \n",
    "    a. we need to compute the estimated proportion of incidence in the pool\n",
    "    b. Something called the standard error"
   ]
  },
  {
   "cell_type": "markdown",
   "metadata": {},
   "source": [
    "Calculating a z score\n",
    "    -we take the difference of incidence of some event between two populations and the null hypothesis\n",
    "    - the null hypothesis is that there is no difference\n",
    "    - we then divide this value by the standard error of \n",
    "\n",
    "    p1 = incidence of event in population 1\n",
    "    p2 = incidence of event in population 2\n",
    "    n1 = population size in population 1\n",
    "    n2 = population size in population 2\n",
    "    -Pooled Estimate\n",
    "        -p_hat = (p1*n1 +p2*n2)/(n1 + n2)\n",
    "  \n",
    "    -Standard Error\n",
    "        se = sqrt(p_hat*(1 - p_hat) * (1/n1 + 1/n2)"
   ]
  },
  {
   "cell_type": "markdown",
   "metadata": {},
   "source": [
    "two sided tests vs one-sided tests"
   ]
  },
  {
   "cell_type": "markdown",
   "metadata": {},
   "source": [
    "t tests\n",
    "    - comparing two sample means\n",
    "    - pooled standard deviation\n",
    "    - standard error"
   ]
  },
  {
   "cell_type": "code",
   "execution_count": null,
   "metadata": {
    "collapsed": true
   },
   "outputs": [],
   "source": []
  }
 ],
 "metadata": {
  "kernelspec": {
   "display_name": "R",
   "language": "R",
   "name": "ir"
  },
  "language_info": {
   "codemirror_mode": "r",
   "file_extension": ".r",
   "mimetype": "text/x-r-source",
   "name": "R",
   "pygments_lexer": "r",
   "version": "3.4.1"
  }
 },
 "nbformat": 4,
 "nbformat_minor": 2
}
