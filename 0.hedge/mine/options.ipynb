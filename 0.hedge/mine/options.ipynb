{
 "cells": [
  {
   "cell_type": "code",
   "execution_count": 18,
   "metadata": {},
   "outputs": [],
   "source": [
    "import yfinance as yf\n",
    "import datetime\n",
    "import pandas as pd\n",
    "gld = yf.Ticker('GLD')\n",
    "uso = yf.Ticker('USO')\n",
    "uup = yf.Ticker('UUP')"
   ]
  },
  {
   "cell_type": "markdown",
   "metadata": {},
   "source": [
    "#### Volatility arbitrage Strategy\n",
    "\n",
    "* When the ratio of ~30 day to ~90 day vol is less than 1 we are in a short vol position\n",
    "* When the ratio of ~30 day to ~90 day vol is greater than 1 we are in a long vol position\n",
    "\n",
    "\n",
    "\n",
    "\n",
    "### What does this mean?\n",
    "\n",
    "## Long Vol Positions \n",
    "#### When ~30 / ~90 > 1 it suggests market participants are buying front-month protection and expecting volatility to increase. \n",
    " \n",
    " ### We want to be long straddles (buy at the money calls and puts) \n",
    "<img src=\"long_straddle.png\" width=\"800\" height=\"400\">\n",
    "\n",
    "### A less profitable and less risky position is a long strangle (buy slightly out of the money calls and puts) \n",
    "<img src=\"long_strangle.png\" width=\"800\" height=\"400\">\n",
    "    \n",
    "    \n",
    "## Short VoL Positions\n",
    "#### When ~30 / ~90 < 1 it suggests market participants are less worried about front-month risks and risk further out on the term structure is greater.\n",
    "\n",
    "### We want to be short straddles (Sell at the money calls and puts) \n",
    "\n",
    "\n",
    "### We want to be short strangles (Sell slightly out of the money calls and puts) "
   ]
  },
  {
   "cell_type": "code",
   "execution_count": 2,
   "metadata": {},
   "outputs": [
    {
     "data": {
      "text/plain": [
       "datetime.date(2020, 5, 18)"
      ]
     },
     "execution_count": 2,
     "metadata": {},
     "output_type": "execute_result"
    }
   ],
   "source": [
    "datetime.date.today()"
   ]
  },
  {
   "cell_type": "markdown",
   "metadata": {},
   "source": [
    "### Let's Look at GLD Options Dates\n",
    "\n",
    "* GLD options are priced weekly for the front month. \n",
    "* We'll use the 6th week contract and the contract two months of that to get our roughly 30/90 day ratio"
   ]
  },
  {
   "cell_type": "code",
   "execution_count": 3,
   "metadata": {},
   "outputs": [
    {
     "data": {
      "text/plain": [
       "('2020-05-21',\n",
       " '2020-05-28',\n",
       " '2020-06-04',\n",
       " '2020-06-11',\n",
       " '2020-06-18',\n",
       " '2020-06-25',\n",
       " '2020-06-29',\n",
       " '2020-07-16',\n",
       " '2020-09-17',\n",
       " '2020-09-29',\n",
       " '2020-11-19',\n",
       " '2020-12-17',\n",
       " '2020-12-30',\n",
       " '2021-01-14',\n",
       " '2021-03-18',\n",
       " '2021-03-30',\n",
       " '2021-06-17',\n",
       " '2021-09-16',\n",
       " '2021-11-18',\n",
       " '2021-12-16',\n",
       " '2022-01-20')"
      ]
     },
     "execution_count": 3,
     "metadata": {},
     "output_type": "execute_result"
    }
   ],
   "source": [
    "gld.options"
   ]
  },
  {
   "cell_type": "markdown",
   "metadata": {},
   "source": [
    "#### We need to know the current price in order to determine at the money strike prices for calls and puts"
   ]
  },
  {
   "cell_type": "code",
   "execution_count": 13,
   "metadata": {},
   "outputs": [],
   "source": [
    "current_price = (gld.info['ask'] + gld.info['bid'])/2\n"
   ]
  },
  {
   "cell_type": "markdown",
   "metadata": {},
   "source": [
    "### Let's start by calculating the front month at the money call implied vol\n",
    "* We get the contract and then look for strikes within 1 dollar of the current price\n",
    "* We then get the take the mean implied volatility from the options at those strikes\n",
    "* I am going for the mean because it is easy and does not really affect the overall price too much\n",
    "* We see the difference between the two implied vols is about .005 or half a percent"
   ]
  },
  {
   "cell_type": "code",
   "execution_count": 162,
   "metadata": {},
   "outputs": [
    {
     "data": {
      "text/html": [
       "<div>\n",
       "<style scoped>\n",
       "    .dataframe tbody tr th:only-of-type {\n",
       "        vertical-align: middle;\n",
       "    }\n",
       "\n",
       "    .dataframe tbody tr th {\n",
       "        vertical-align: top;\n",
       "    }\n",
       "\n",
       "    .dataframe thead th {\n",
       "        text-align: right;\n",
       "    }\n",
       "</style>\n",
       "<table border=\"1\" class=\"dataframe\">\n",
       "  <thead>\n",
       "    <tr style=\"text-align: right;\">\n",
       "      <th></th>\n",
       "      <th>contractSymbol</th>\n",
       "      <th>lastTradeDate</th>\n",
       "      <th>strike</th>\n",
       "      <th>lastPrice</th>\n",
       "      <th>bid</th>\n",
       "      <th>ask</th>\n",
       "      <th>change</th>\n",
       "      <th>percentChange</th>\n",
       "      <th>volume</th>\n",
       "      <th>openInterest</th>\n",
       "      <th>impliedVolatility</th>\n",
       "      <th>inTheMoney</th>\n",
       "      <th>contractSize</th>\n",
       "      <th>currency</th>\n",
       "    </tr>\n",
       "  </thead>\n",
       "  <tbody>\n",
       "    <tr>\n",
       "      <th>0</th>\n",
       "      <td>GLD200619C00070000</td>\n",
       "      <td>2020-04-28 14:37:34</td>\n",
       "      <td>70.0</td>\n",
       "      <td>89.85</td>\n",
       "      <td>90.4</td>\n",
       "      <td>90.6</td>\n",
       "      <td>0.0</td>\n",
       "      <td>0.0</td>\n",
       "      <td>52.0</td>\n",
       "      <td>274</td>\n",
       "      <td>0.992188</td>\n",
       "      <td>True</td>\n",
       "      <td>REGULAR</td>\n",
       "      <td>USD</td>\n",
       "    </tr>\n",
       "    <tr>\n",
       "      <th>1</th>\n",
       "      <td>GLD200619C00075000</td>\n",
       "      <td>2020-04-30 17:02:58</td>\n",
       "      <td>75.0</td>\n",
       "      <td>83.95</td>\n",
       "      <td>85.4</td>\n",
       "      <td>85.6</td>\n",
       "      <td>0.0</td>\n",
       "      <td>0.0</td>\n",
       "      <td>2.0</td>\n",
       "      <td>29</td>\n",
       "      <td>0.914063</td>\n",
       "      <td>True</td>\n",
       "      <td>REGULAR</td>\n",
       "      <td>USD</td>\n",
       "    </tr>\n",
       "    <tr>\n",
       "      <th>2</th>\n",
       "      <td>GLD200619C00080000</td>\n",
       "      <td>2020-05-06 13:44:00</td>\n",
       "      <td>80.0</td>\n",
       "      <td>79.60</td>\n",
       "      <td>80.4</td>\n",
       "      <td>80.6</td>\n",
       "      <td>0.0</td>\n",
       "      <td>0.0</td>\n",
       "      <td>5.0</td>\n",
       "      <td>41</td>\n",
       "      <td>0.843752</td>\n",
       "      <td>True</td>\n",
       "      <td>REGULAR</td>\n",
       "      <td>USD</td>\n",
       "    </tr>\n",
       "    <tr>\n",
       "      <th>3</th>\n",
       "      <td>GLD200619C00085000</td>\n",
       "      <td>2020-04-01 13:30:07</td>\n",
       "      <td>85.0</td>\n",
       "      <td>63.42</td>\n",
       "      <td>0.0</td>\n",
       "      <td>0.0</td>\n",
       "      <td>0.0</td>\n",
       "      <td>0.0</td>\n",
       "      <td>2.0</td>\n",
       "      <td>21</td>\n",
       "      <td>0.000010</td>\n",
       "      <td>True</td>\n",
       "      <td>REGULAR</td>\n",
       "      <td>USD</td>\n",
       "    </tr>\n",
       "    <tr>\n",
       "      <th>4</th>\n",
       "      <td>GLD200619C00090000</td>\n",
       "      <td>2020-03-18 19:26:44</td>\n",
       "      <td>90.0</td>\n",
       "      <td>51.40</td>\n",
       "      <td>68.1</td>\n",
       "      <td>68.7</td>\n",
       "      <td>0.0</td>\n",
       "      <td>0.0</td>\n",
       "      <td>11.0</td>\n",
       "      <td>14</td>\n",
       "      <td>0.000010</td>\n",
       "      <td>True</td>\n",
       "      <td>REGULAR</td>\n",
       "      <td>USD</td>\n",
       "    </tr>\n",
       "  </tbody>\n",
       "</table>\n",
       "</div>"
      ],
      "text/plain": [
       "       contractSymbol       lastTradeDate  strike  lastPrice   bid   ask  \\\n",
       "0  GLD200619C00070000 2020-04-28 14:37:34    70.0      89.85  90.4  90.6   \n",
       "1  GLD200619C00075000 2020-04-30 17:02:58    75.0      83.95  85.4  85.6   \n",
       "2  GLD200619C00080000 2020-05-06 13:44:00    80.0      79.60  80.4  80.6   \n",
       "3  GLD200619C00085000 2020-04-01 13:30:07    85.0      63.42   0.0   0.0   \n",
       "4  GLD200619C00090000 2020-03-18 19:26:44    90.0      51.40  68.1  68.7   \n",
       "\n",
       "   change  percentChange  volume  openInterest  impliedVolatility  inTheMoney  \\\n",
       "0     0.0            0.0    52.0           274           0.992188        True   \n",
       "1     0.0            0.0     2.0            29           0.914063        True   \n",
       "2     0.0            0.0     5.0            41           0.843752        True   \n",
       "3     0.0            0.0     2.0            21           0.000010        True   \n",
       "4     0.0            0.0    11.0            14           0.000010        True   \n",
       "\n",
       "  contractSize currency  \n",
       "0      REGULAR      USD  \n",
       "1      REGULAR      USD  \n",
       "2      REGULAR      USD  \n",
       "3      REGULAR      USD  \n",
       "4      REGULAR      USD  "
      ]
     },
     "execution_count": 162,
     "metadata": {},
     "output_type": "execute_result"
    }
   ],
   "source": [
    "gld.option_chain(gld.options[5]).calls.head(5)"
   ]
  },
  {
   "cell_type": "code",
   "execution_count": 144,
   "metadata": {},
   "outputs": [
    {
     "data": {
      "text/html": [
       "<div>\n",
       "<style scoped>\n",
       "    .dataframe tbody tr th:only-of-type {\n",
       "        vertical-align: middle;\n",
       "    }\n",
       "\n",
       "    .dataframe tbody tr th {\n",
       "        vertical-align: top;\n",
       "    }\n",
       "\n",
       "    .dataframe thead th {\n",
       "        text-align: right;\n",
       "    }\n",
       "</style>\n",
       "<table border=\"1\" class=\"dataframe\">\n",
       "  <thead>\n",
       "    <tr style=\"text-align: right;\">\n",
       "      <th></th>\n",
       "      <th>contractSymbol</th>\n",
       "      <th>lastTradeDate</th>\n",
       "      <th>strike</th>\n",
       "      <th>lastPrice</th>\n",
       "      <th>bid</th>\n",
       "      <th>ask</th>\n",
       "      <th>change</th>\n",
       "      <th>percentChange</th>\n",
       "      <th>volume</th>\n",
       "      <th>openInterest</th>\n",
       "      <th>impliedVolatility</th>\n",
       "      <th>inTheMoney</th>\n",
       "      <th>contractSize</th>\n",
       "      <th>currency</th>\n",
       "    </tr>\n",
       "  </thead>\n",
       "  <tbody>\n",
       "    <tr>\n",
       "      <th>62</th>\n",
       "      <td>GLD200619C00160000</td>\n",
       "      <td>2020-05-08 19:59:56</td>\n",
       "      <td>160.0</td>\n",
       "      <td>5.19</td>\n",
       "      <td>5.15</td>\n",
       "      <td>5.25</td>\n",
       "      <td>-0.81</td>\n",
       "      <td>-13.499999</td>\n",
       "      <td>1294.0</td>\n",
       "      <td>38985</td>\n",
       "      <td>0.232307</td>\n",
       "      <td>True</td>\n",
       "      <td>REGULAR</td>\n",
       "      <td>USD</td>\n",
       "    </tr>\n",
       "    <tr>\n",
       "      <th>63</th>\n",
       "      <td>GLD200619C00161000</td>\n",
       "      <td>2020-05-08 19:52:47</td>\n",
       "      <td>161.0</td>\n",
       "      <td>4.74</td>\n",
       "      <td>4.70</td>\n",
       "      <td>4.90</td>\n",
       "      <td>-0.71</td>\n",
       "      <td>-13.027524</td>\n",
       "      <td>2543.0</td>\n",
       "      <td>28007</td>\n",
       "      <td>0.238411</td>\n",
       "      <td>False</td>\n",
       "      <td>REGULAR</td>\n",
       "      <td>USD</td>\n",
       "    </tr>\n",
       "  </tbody>\n",
       "</table>\n",
       "</div>"
      ],
      "text/plain": [
       "        contractSymbol       lastTradeDate  strike  lastPrice   bid   ask  \\\n",
       "62  GLD200619C00160000 2020-05-08 19:59:56   160.0       5.19  5.15  5.25   \n",
       "63  GLD200619C00161000 2020-05-08 19:52:47   161.0       4.74  4.70  4.90   \n",
       "\n",
       "    change  percentChange  volume  openInterest  impliedVolatility  \\\n",
       "62   -0.81     -13.499999  1294.0         38985           0.232307   \n",
       "63   -0.71     -13.027524  2543.0         28007           0.238411   \n",
       "\n",
       "    inTheMoney contractSize currency  \n",
       "62        True      REGULAR      USD  \n",
       "63       False      REGULAR      USD  "
      ]
     },
     "execution_count": 144,
     "metadata": {},
     "output_type": "execute_result"
    }
   ],
   "source": [
    "one_month_gld_calls.loc[\n",
    "                        (one_month_gld_calls['strike'] <= (current_price + 1)) & \n",
    "                        (one_month_gld_calls['strike'] >= (current_price - 1))]"
   ]
  },
  {
   "cell_type": "code",
   "execution_count": 142,
   "metadata": {},
   "outputs": [
    {
     "data": {
      "text/plain": [
       "0.23535920898437498"
      ]
     },
     "execution_count": 142,
     "metadata": {},
     "output_type": "execute_result"
    }
   ],
   "source": [
    "one_month_gld_calls = gld.option_chain(gld.options[5]).calls\n",
    "\n",
    "one_month_call_vol = (one_month_gld_calls.loc[\n",
    "                        (one_month_gld_calls['strike'] <= (current_price + 1)) & \n",
    "                        (one_month_gld_calls['strike'] >= (current_price - 1))]\n",
    "                        ['impliedVolatility'].mean()\n",
    "           )\n",
    "one_month_call_vol"
   ]
  },
  {
   "cell_type": "markdown",
   "metadata": {},
   "source": [
    "### We do the same for front month  puts \n"
   ]
  },
  {
   "cell_type": "code",
   "execution_count": 169,
   "metadata": {},
   "outputs": [],
   "source": [
    "one_month_gld_puts = gld.option_chain(gld.options[5]).puts"
   ]
  },
  {
   "cell_type": "code",
   "execution_count": 170,
   "metadata": {},
   "outputs": [
    {
     "data": {
      "text/html": [
       "<div>\n",
       "<style scoped>\n",
       "    .dataframe tbody tr th:only-of-type {\n",
       "        vertical-align: middle;\n",
       "    }\n",
       "\n",
       "    .dataframe tbody tr th {\n",
       "        vertical-align: top;\n",
       "    }\n",
       "\n",
       "    .dataframe thead th {\n",
       "        text-align: right;\n",
       "    }\n",
       "</style>\n",
       "<table border=\"1\" class=\"dataframe\">\n",
       "  <thead>\n",
       "    <tr style=\"text-align: right;\">\n",
       "      <th></th>\n",
       "      <th>contractSymbol</th>\n",
       "      <th>lastTradeDate</th>\n",
       "      <th>strike</th>\n",
       "      <th>lastPrice</th>\n",
       "      <th>bid</th>\n",
       "      <th>ask</th>\n",
       "      <th>change</th>\n",
       "      <th>percentChange</th>\n",
       "      <th>volume</th>\n",
       "      <th>openInterest</th>\n",
       "      <th>impliedVolatility</th>\n",
       "      <th>inTheMoney</th>\n",
       "      <th>contractSize</th>\n",
       "      <th>currency</th>\n",
       "    </tr>\n",
       "  </thead>\n",
       "  <tbody>\n",
       "    <tr>\n",
       "      <th>0</th>\n",
       "      <td>GLD200619P00070000</td>\n",
       "      <td>2020-04-30 18:54:55</td>\n",
       "      <td>70.0</td>\n",
       "      <td>0.01</td>\n",
       "      <td>0.0</td>\n",
       "      <td>0.01</td>\n",
       "      <td>0.0</td>\n",
       "      <td>0.0</td>\n",
       "      <td>11.0</td>\n",
       "      <td>705</td>\n",
       "      <td>0.765627</td>\n",
       "      <td>False</td>\n",
       "      <td>REGULAR</td>\n",
       "      <td>USD</td>\n",
       "    </tr>\n",
       "    <tr>\n",
       "      <th>1</th>\n",
       "      <td>GLD200619P00075000</td>\n",
       "      <td>2020-04-28 17:30:33</td>\n",
       "      <td>75.0</td>\n",
       "      <td>0.01</td>\n",
       "      <td>0.0</td>\n",
       "      <td>0.01</td>\n",
       "      <td>0.0</td>\n",
       "      <td>0.0</td>\n",
       "      <td>40.0</td>\n",
       "      <td>100</td>\n",
       "      <td>0.703128</td>\n",
       "      <td>False</td>\n",
       "      <td>REGULAR</td>\n",
       "      <td>USD</td>\n",
       "    </tr>\n",
       "    <tr>\n",
       "      <th>2</th>\n",
       "      <td>GLD200619P00080000</td>\n",
       "      <td>2020-05-01 19:54:53</td>\n",
       "      <td>80.0</td>\n",
       "      <td>0.01</td>\n",
       "      <td>0.0</td>\n",
       "      <td>0.02</td>\n",
       "      <td>0.0</td>\n",
       "      <td>0.0</td>\n",
       "      <td>5.0</td>\n",
       "      <td>410</td>\n",
       "      <td>0.687503</td>\n",
       "      <td>False</td>\n",
       "      <td>REGULAR</td>\n",
       "      <td>USD</td>\n",
       "    </tr>\n",
       "    <tr>\n",
       "      <th>3</th>\n",
       "      <td>GLD200619P00085000</td>\n",
       "      <td>2020-04-30 18:13:19</td>\n",
       "      <td>85.0</td>\n",
       "      <td>0.01</td>\n",
       "      <td>0.0</td>\n",
       "      <td>0.01</td>\n",
       "      <td>0.0</td>\n",
       "      <td>0.0</td>\n",
       "      <td>10.0</td>\n",
       "      <td>268</td>\n",
       "      <td>0.593754</td>\n",
       "      <td>False</td>\n",
       "      <td>REGULAR</td>\n",
       "      <td>USD</td>\n",
       "    </tr>\n",
       "    <tr>\n",
       "      <th>4</th>\n",
       "      <td>GLD200619P00090000</td>\n",
       "      <td>2020-05-01 18:47:56</td>\n",
       "      <td>90.0</td>\n",
       "      <td>0.01</td>\n",
       "      <td>0.0</td>\n",
       "      <td>0.02</td>\n",
       "      <td>0.0</td>\n",
       "      <td>0.0</td>\n",
       "      <td>10.0</td>\n",
       "      <td>9353</td>\n",
       "      <td>0.578129</td>\n",
       "      <td>False</td>\n",
       "      <td>REGULAR</td>\n",
       "      <td>USD</td>\n",
       "    </tr>\n",
       "  </tbody>\n",
       "</table>\n",
       "</div>"
      ],
      "text/plain": [
       "       contractSymbol       lastTradeDate  strike  lastPrice  bid   ask  \\\n",
       "0  GLD200619P00070000 2020-04-30 18:54:55    70.0       0.01  0.0  0.01   \n",
       "1  GLD200619P00075000 2020-04-28 17:30:33    75.0       0.01  0.0  0.01   \n",
       "2  GLD200619P00080000 2020-05-01 19:54:53    80.0       0.01  0.0  0.02   \n",
       "3  GLD200619P00085000 2020-04-30 18:13:19    85.0       0.01  0.0  0.01   \n",
       "4  GLD200619P00090000 2020-05-01 18:47:56    90.0       0.01  0.0  0.02   \n",
       "\n",
       "   change  percentChange  volume  openInterest  impliedVolatility  inTheMoney  \\\n",
       "0     0.0            0.0    11.0           705           0.765627       False   \n",
       "1     0.0            0.0    40.0           100           0.703128       False   \n",
       "2     0.0            0.0     5.0           410           0.687503       False   \n",
       "3     0.0            0.0    10.0           268           0.593754       False   \n",
       "4     0.0            0.0    10.0          9353           0.578129       False   \n",
       "\n",
       "  contractSize currency  \n",
       "0      REGULAR      USD  \n",
       "1      REGULAR      USD  \n",
       "2      REGULAR      USD  \n",
       "3      REGULAR      USD  \n",
       "4      REGULAR      USD  "
      ]
     },
     "execution_count": 170,
     "metadata": {},
     "output_type": "execute_result"
    }
   ],
   "source": [
    "one_month_gld_puts.head(5)"
   ]
  },
  {
   "cell_type": "code",
   "execution_count": 171,
   "metadata": {},
   "outputs": [
    {
     "data": {
      "text/html": [
       "<div>\n",
       "<style scoped>\n",
       "    .dataframe tbody tr th:only-of-type {\n",
       "        vertical-align: middle;\n",
       "    }\n",
       "\n",
       "    .dataframe tbody tr th {\n",
       "        vertical-align: top;\n",
       "    }\n",
       "\n",
       "    .dataframe thead th {\n",
       "        text-align: right;\n",
       "    }\n",
       "</style>\n",
       "<table border=\"1\" class=\"dataframe\">\n",
       "  <thead>\n",
       "    <tr style=\"text-align: right;\">\n",
       "      <th></th>\n",
       "      <th>contractSymbol</th>\n",
       "      <th>lastTradeDate</th>\n",
       "      <th>strike</th>\n",
       "      <th>lastPrice</th>\n",
       "      <th>bid</th>\n",
       "      <th>ask</th>\n",
       "      <th>change</th>\n",
       "      <th>percentChange</th>\n",
       "      <th>volume</th>\n",
       "      <th>openInterest</th>\n",
       "      <th>impliedVolatility</th>\n",
       "      <th>inTheMoney</th>\n",
       "      <th>contractSize</th>\n",
       "      <th>currency</th>\n",
       "    </tr>\n",
       "  </thead>\n",
       "  <tbody>\n",
       "    <tr>\n",
       "      <th>66</th>\n",
       "      <td>GLD200619P00160000</td>\n",
       "      <td>2020-05-08 19:59:03</td>\n",
       "      <td>160.0</td>\n",
       "      <td>4.66</td>\n",
       "      <td>4.6</td>\n",
       "      <td>4.70</td>\n",
       "      <td>0.08</td>\n",
       "      <td>1.746723</td>\n",
       "      <td>848.0</td>\n",
       "      <td>10099</td>\n",
       "      <td>0.226448</td>\n",
       "      <td>False</td>\n",
       "      <td>REGULAR</td>\n",
       "      <td>USD</td>\n",
       "    </tr>\n",
       "    <tr>\n",
       "      <th>67</th>\n",
       "      <td>GLD200619P00161000</td>\n",
       "      <td>2020-05-08 19:50:01</td>\n",
       "      <td>161.0</td>\n",
       "      <td>5.28</td>\n",
       "      <td>5.1</td>\n",
       "      <td>5.35</td>\n",
       "      <td>0.23</td>\n",
       "      <td>4.554456</td>\n",
       "      <td>3901.0</td>\n",
       "      <td>1589</td>\n",
       "      <td>0.232552</td>\n",
       "      <td>True</td>\n",
       "      <td>REGULAR</td>\n",
       "      <td>USD</td>\n",
       "    </tr>\n",
       "  </tbody>\n",
       "</table>\n",
       "</div>"
      ],
      "text/plain": [
       "        contractSymbol       lastTradeDate  strike  lastPrice  bid   ask  \\\n",
       "66  GLD200619P00160000 2020-05-08 19:59:03   160.0       4.66  4.6  4.70   \n",
       "67  GLD200619P00161000 2020-05-08 19:50:01   161.0       5.28  5.1  5.35   \n",
       "\n",
       "    change  percentChange  volume  openInterest  impliedVolatility  \\\n",
       "66    0.08       1.746723   848.0         10099           0.226448   \n",
       "67    0.23       4.554456  3901.0          1589           0.232552   \n",
       "\n",
       "    inTheMoney contractSize currency  \n",
       "66       False      REGULAR      USD  \n",
       "67        True      REGULAR      USD  "
      ]
     },
     "execution_count": 171,
     "metadata": {},
     "output_type": "execute_result"
    }
   ],
   "source": [
    "(one_month_gld_puts.loc[\n",
    "                        (one_month_gld_puts['strike'] <= (current_price + 1)) & \n",
    "                        (one_month_gld_puts['strike'] >= (current_price - 1))])\n",
    "                        "
   ]
  },
  {
   "cell_type": "code",
   "execution_count": 172,
   "metadata": {},
   "outputs": [
    {
     "data": {
      "text/plain": [
       "0.22949989257812498"
      ]
     },
     "execution_count": 172,
     "metadata": {},
     "output_type": "execute_result"
    }
   ],
   "source": [
    "\n",
    "\n",
    "one_month_put_vol = (one_month_gld_puts.loc[\n",
    "                        (one_month_gld_puts['strike'] <= (current_price + 1)) & \n",
    "                        (one_month_gld_puts['strike'] >= (current_price - 1))]\n",
    "                        ['impliedVolatility'].mean()\n",
    "           )\n",
    "one_month_put_vol"
   ]
  },
  {
   "cell_type": "code",
   "execution_count": 173,
   "metadata": {},
   "outputs": [],
   "source": [
    "one_month_implied_vol = (one_month_call_vol + one_month_put_vol)/2"
   ]
  },
  {
   "cell_type": "code",
   "execution_count": 174,
   "metadata": {},
   "outputs": [
    {
     "data": {
      "text/plain": [
       "0.23242955078125"
      ]
     },
     "execution_count": 174,
     "metadata": {},
     "output_type": "execute_result"
    }
   ],
   "source": [
    "one_month_implied_vol"
   ]
  },
  {
   "cell_type": "markdown",
   "metadata": {},
   "source": [
    "### We need to do the same for 90 day calls \n",
    "\n",
    "* We can see the contract expires in September which is 90 days out from the previous contract"
   ]
  },
  {
   "cell_type": "code",
   "execution_count": 175,
   "metadata": {},
   "outputs": [
    {
     "data": {
      "text/html": [
       "<div>\n",
       "<style scoped>\n",
       "    .dataframe tbody tr th:only-of-type {\n",
       "        vertical-align: middle;\n",
       "    }\n",
       "\n",
       "    .dataframe tbody tr th {\n",
       "        vertical-align: top;\n",
       "    }\n",
       "\n",
       "    .dataframe thead th {\n",
       "        text-align: right;\n",
       "    }\n",
       "</style>\n",
       "<table border=\"1\" class=\"dataframe\">\n",
       "  <thead>\n",
       "    <tr style=\"text-align: right;\">\n",
       "      <th></th>\n",
       "      <th>contractSymbol</th>\n",
       "      <th>lastTradeDate</th>\n",
       "      <th>strike</th>\n",
       "      <th>lastPrice</th>\n",
       "      <th>bid</th>\n",
       "      <th>ask</th>\n",
       "      <th>change</th>\n",
       "      <th>percentChange</th>\n",
       "      <th>volume</th>\n",
       "      <th>openInterest</th>\n",
       "      <th>impliedVolatility</th>\n",
       "      <th>inTheMoney</th>\n",
       "      <th>contractSize</th>\n",
       "      <th>currency</th>\n",
       "    </tr>\n",
       "  </thead>\n",
       "  <tbody>\n",
       "    <tr>\n",
       "      <th>0</th>\n",
       "      <td>GLD200918C00074000</td>\n",
       "      <td>2020-03-19 16:54:15</td>\n",
       "      <td>74.0</td>\n",
       "      <td>65.45</td>\n",
       "      <td>84.25</td>\n",
       "      <td>85.15</td>\n",
       "      <td>0.0</td>\n",
       "      <td>0.0</td>\n",
       "      <td>NaN</td>\n",
       "      <td>0</td>\n",
       "      <td>0.00001</td>\n",
       "      <td>True</td>\n",
       "      <td>REGULAR</td>\n",
       "      <td>USD</td>\n",
       "    </tr>\n",
       "    <tr>\n",
       "      <th>1</th>\n",
       "      <td>GLD200918C00077000</td>\n",
       "      <td>2020-03-20 19:58:00</td>\n",
       "      <td>77.0</td>\n",
       "      <td>74.90</td>\n",
       "      <td>81.25</td>\n",
       "      <td>82.15</td>\n",
       "      <td>0.0</td>\n",
       "      <td>0.0</td>\n",
       "      <td>1.0</td>\n",
       "      <td>0</td>\n",
       "      <td>0.00001</td>\n",
       "      <td>True</td>\n",
       "      <td>REGULAR</td>\n",
       "      <td>USD</td>\n",
       "    </tr>\n",
       "    <tr>\n",
       "      <th>2</th>\n",
       "      <td>GLD200918C00078000</td>\n",
       "      <td>2020-03-02 05:04:26</td>\n",
       "      <td>78.0</td>\n",
       "      <td>77.95</td>\n",
       "      <td>69.80</td>\n",
       "      <td>71.05</td>\n",
       "      <td>0.0</td>\n",
       "      <td>0.0</td>\n",
       "      <td>NaN</td>\n",
       "      <td>37</td>\n",
       "      <td>0.00001</td>\n",
       "      <td>True</td>\n",
       "      <td>REGULAR</td>\n",
       "      <td>USD</td>\n",
       "    </tr>\n",
       "    <tr>\n",
       "      <th>3</th>\n",
       "      <td>GLD200918C00079000</td>\n",
       "      <td>2020-03-27 08:16:08</td>\n",
       "      <td>79.0</td>\n",
       "      <td>77.25</td>\n",
       "      <td>73.80</td>\n",
       "      <td>74.85</td>\n",
       "      <td>0.0</td>\n",
       "      <td>0.0</td>\n",
       "      <td>1.0</td>\n",
       "      <td>34</td>\n",
       "      <td>0.00001</td>\n",
       "      <td>True</td>\n",
       "      <td>REGULAR</td>\n",
       "      <td>USD</td>\n",
       "    </tr>\n",
       "    <tr>\n",
       "      <th>4</th>\n",
       "      <td>GLD200918C00080000</td>\n",
       "      <td>2020-03-19 17:44:27</td>\n",
       "      <td>80.0</td>\n",
       "      <td>59.25</td>\n",
       "      <td>78.30</td>\n",
       "      <td>79.00</td>\n",
       "      <td>0.0</td>\n",
       "      <td>0.0</td>\n",
       "      <td>105.0</td>\n",
       "      <td>0</td>\n",
       "      <td>0.00001</td>\n",
       "      <td>True</td>\n",
       "      <td>REGULAR</td>\n",
       "      <td>USD</td>\n",
       "    </tr>\n",
       "  </tbody>\n",
       "</table>\n",
       "</div>"
      ],
      "text/plain": [
       "       contractSymbol       lastTradeDate  strike  lastPrice    bid    ask  \\\n",
       "0  GLD200918C00074000 2020-03-19 16:54:15    74.0      65.45  84.25  85.15   \n",
       "1  GLD200918C00077000 2020-03-20 19:58:00    77.0      74.90  81.25  82.15   \n",
       "2  GLD200918C00078000 2020-03-02 05:04:26    78.0      77.95  69.80  71.05   \n",
       "3  GLD200918C00079000 2020-03-27 08:16:08    79.0      77.25  73.80  74.85   \n",
       "4  GLD200918C00080000 2020-03-19 17:44:27    80.0      59.25  78.30  79.00   \n",
       "\n",
       "   change  percentChange  volume  openInterest  impliedVolatility  inTheMoney  \\\n",
       "0     0.0            0.0     NaN             0            0.00001        True   \n",
       "1     0.0            0.0     1.0             0            0.00001        True   \n",
       "2     0.0            0.0     NaN            37            0.00001        True   \n",
       "3     0.0            0.0     1.0            34            0.00001        True   \n",
       "4     0.0            0.0   105.0             0            0.00001        True   \n",
       "\n",
       "  contractSize currency  \n",
       "0      REGULAR      USD  \n",
       "1      REGULAR      USD  \n",
       "2      REGULAR      USD  \n",
       "3      REGULAR      USD  \n",
       "4      REGULAR      USD  "
      ]
     },
     "execution_count": 175,
     "metadata": {},
     "output_type": "execute_result"
    }
   ],
   "source": [
    "gld.option_chain(gld.options[8]).calls.head(5)"
   ]
  },
  {
   "cell_type": "code",
   "execution_count": 177,
   "metadata": {},
   "outputs": [
    {
     "data": {
      "text/plain": [
       "0.25997138961791993"
      ]
     },
     "execution_count": 177,
     "metadata": {},
     "output_type": "execute_result"
    }
   ],
   "source": [
    "three_month_gld_calls = gld.option_chain(gld.options[8]).calls\n",
    "\n",
    "three_month_call_vol = (three_month_gld_calls.loc[\n",
    "                        (three_month_gld_calls['strike'] <= (current_price + 1)) & \n",
    "                        (three_month_gld_calls['strike'] >= (current_price - 1))]\n",
    "                        ['impliedVolatility'].mean()\n",
    "           )\n",
    "three_month_call_vol"
   ]
  },
  {
   "cell_type": "code",
   "execution_count": 178,
   "metadata": {},
   "outputs": [
    {
     "data": {
      "text/plain": [
       "0.2528456063842774"
      ]
     },
     "execution_count": 178,
     "metadata": {},
     "output_type": "execute_result"
    }
   ],
   "source": [
    "three_month_gld_puts = gld.option_chain(gld.options[8]).puts\n",
    "\n",
    "three_month_put_vol = (three_month_gld_puts.loc[\n",
    "                        (three_month_gld_puts['strike'] <= (current_price + 1)) & \n",
    "                        (three_month_gld_puts['strike'] >= (current_price - 1))]\n",
    "                        ['impliedVolatility'].mean()\n",
    "           )\n",
    "three_month_put_vol"
   ]
  },
  {
   "cell_type": "code",
   "execution_count": 180,
   "metadata": {},
   "outputs": [
    {
     "data": {
      "text/plain": [
       "0.25640849800109866"
      ]
     },
     "execution_count": 180,
     "metadata": {},
     "output_type": "execute_result"
    }
   ],
   "source": [
    "three_month_implied_vol = (three_month_call_vol + three_month_put_vol)/2\n",
    "three_month_implied_vol"
   ]
  },
  {
   "cell_type": "code",
   "execution_count": 182,
   "metadata": {},
   "outputs": [
    {
     "data": {
      "text/plain": [
       "0.9064814645115782"
      ]
     },
     "execution_count": 182,
     "metadata": {},
     "output_type": "execute_result"
    }
   ],
   "source": [
    "vol_ratio = one_month_implied_vol / three_month_implied_vol\n",
    "vol_ratio"
   ]
  },
  {
   "cell_type": "code",
   "execution_count": 15,
   "metadata": {},
   "outputs": [],
   "source": [
    "## Do it all at once \n",
    "from numba import jit\n",
    "import yfinance as yf\n",
    "\n",
    "def get_data(ticker):\n",
    "    ticker = yf.Ticker(ticker)\n",
    "    \n",
    "    return ticker\n",
    "\n",
    "def compute_term_iv(ticker, term):\n",
    "    \n",
    "    series = get_data(ticker)\n",
    "    \n",
    "    current_price = (gld.info['ask'] + gld.info['bid'])/2\n",
    "\n",
    "    one_month_calls = series.option_chain(series.options[term]).calls\n",
    "    \n",
    "    one_month_implied_vol_calls = (one_month_calls.loc[\n",
    "                                        (one_month_calls['strike'] <= (current_price + 1)) & \n",
    "                                        (one_month_calls['strike'] >= (current_price - 1))]\n",
    "                                        ['impliedVolatility'].mean()\n",
    "                                    )\n",
    "    \n",
    "    one_month_puts = series.option_chain(series.options[term]).puts\n",
    "    \n",
    "    one_month_implied_vol_puts = (one_month_puts.loc[\n",
    "                                        (one_month_puts['strike'] <= (current_price + 1)) & \n",
    "                                        (one_month_puts['strike'] >= (current_price - 1))]\n",
    "                                      ['impliedVolatility'].mean()\n",
    "                                )\n",
    "    \n",
    "    return (one_month_implied_vol_puts + one_month_implied_vol_calls)/2\n",
    "\n",
    "def compute_vol_term_ratio(ticker, term1, term2):\n",
    "    \n",
    "    term1_vol = compute_term_iv(ticker, term1)\n",
    "    \n",
    "    term2_vol = compute_term_iv(ticker, term2)  \n",
    "    \n",
    "    return (term1_vol/term2_vol)"
   ]
  },
  {
   "cell_type": "code",
   "execution_count": 26,
   "metadata": {},
   "outputs": [
    {
     "data": {
      "text/plain": [
       "0.872071591796875"
      ]
     },
     "execution_count": 26,
     "metadata": {},
     "output_type": "execute_result"
    }
   ],
   "source": [
    "compute_term_iv('USO', 0)"
   ]
  },
  {
   "cell_type": "code",
   "execution_count": 30,
   "metadata": {},
   "outputs": [
    {
     "data": {
      "text/plain": [
       "0.22897346961975096"
      ]
     },
     "execution_count": 30,
     "metadata": {},
     "output_type": "execute_result"
    }
   ],
   "source": [
    "compute_term_iv('GLD', 8)"
   ]
  },
  {
   "cell_type": "code",
   "execution_count": 33,
   "metadata": {},
   "outputs": [
    {
     "data": {
      "text/plain": [
       "1.0965371333609157"
      ]
     },
     "execution_count": 33,
     "metadata": {},
     "output_type": "execute_result"
    }
   ],
   "source": [
    "compute_vol_term_ratio('USO', 4, 7)"
   ]
  },
  {
   "cell_type": "code",
   "execution_count": 28,
   "metadata": {},
   "outputs": [
    {
     "data": {
      "text/plain": [
       "('2020-05-21',\n",
       " '2020-05-28',\n",
       " '2020-06-04',\n",
       " '2020-06-11',\n",
       " '2020-06-18',\n",
       " '2020-06-25',\n",
       " '2020-07-16',\n",
       " '2020-10-15',\n",
       " '2021-01-14',\n",
       " '2022-01-20',\n",
       " '2022-12-15')"
      ]
     },
     "execution_count": 28,
     "metadata": {},
     "output_type": "execute_result"
    }
   ],
   "source": [
    "uso.options"
   ]
  },
  {
   "cell_type": "markdown",
   "metadata": {},
   "source": [
    "### Conclusion\n",
    "\n",
    "* We see that we are currently at 0.906 for a vol ratio\n",
    "* This implies declining volatility relative to future months\n",
    "* We would want to take a short straddle/strangle position to profit from this\n",
    "* Based on our ratio, we know when to take enter/exit positions and therefore we know when to take profit/loss\n",
    "\n",
    "\n",
    "#### Further Discussion and Questions \n",
    "\n",
    "* How should we work this? Straddles or Strangles?\n",
    "* Do we buy only one month or spread our position across multiple medium term future month maturities\n",
    "* One example for a long position would be to one straddle at front month, 2 at next month out, 3 at 3 months and 3 at 5 months\n",
    "* I think for simplicity, right now, it is easier to buy 1 at 2 months out 1 at 3 months out. \n",
    " \n",
    "#### Next Steps\n",
    "\n",
    "* Set up the infra to pull daily data and save to S3\n",
    "* Set up infra to execute trades using IB\n",
    "* Set up some kind of front-end to do other anlaysis\n",
    "\n"
   ]
  },
  {
   "cell_type": "code",
   "execution_count": null,
   "metadata": {},
   "outputs": [],
   "source": []
  }
 ],
 "metadata": {
  "kernelspec": {
   "display_name": "Python 3",
   "language": "python",
   "name": "python3"
  },
  "language_info": {
   "codemirror_mode": {
    "name": "ipython",
    "version": 3
   },
   "file_extension": ".py",
   "mimetype": "text/x-python",
   "name": "python",
   "nbconvert_exporter": "python",
   "pygments_lexer": "ipython3",
   "version": "3.7.7"
  }
 },
 "nbformat": 4,
 "nbformat_minor": 4
}
