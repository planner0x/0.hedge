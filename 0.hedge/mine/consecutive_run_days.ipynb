{
 "cells": [
  {
   "cell_type": "markdown",
   "metadata": {},
   "source": [
    "#### Run-Day Consecutive Count System\n",
    "+ This is a trend-reversal/initiation identification system\n",
    "+ Reversal signals occur when a specified number of up/down run days without any intervening down/up\n",
    "\n",
    "#### Up Run Day\n",
    "+ The true high of the run day is greater than the maximum true high of past N days\n",
    "+ The true low of the run day is less than the minimum true low on the subsequent N days\n",
    "\n",
    "#### Down Run Day\n",
    "+ The true low of the run day is less then the minimum of true low of the past N days\n",
    "+ The true high of the run day is greater than the maximum true high of the subsequent N days\n",
    "\n",
    "#### Buy Count\n",
    "+ Activated whenever a sell signal is received.\n",
    "+ Count starts at zero and increases by one whenever a new up run day is defined\n",
    "+ Count is reset to zero whenever there is a down run day\n",
    "+ Buy count represents consecutive up run days withou intervening down day\n",
    "+ Buy count is closed whenever a buy signal is received\n",
    "\n",
    "#### Sell Count\n",
    "+ Activated whenever a buy signal is received\n",
    "+ Count starts at zero and increments by one whenever a new down run day is defined\n",
    "+ Count is reset to zero whenever an up run day \n",
    "+ Sell count represents consecutive number of down run days without intervening up day\n",
    "+ Sell count is closed whenever a sell signal is received\n",
    "\n",
    "#### Trading Signals\n",
    "\n",
    "##### Buy Signal\n",
    "+ Reverse to long whenver the buy count reaches N2\n",
    "+ Fullfillment of condition does not occur until N1 days after the N2th consecutive up run day\n",
    "\n",
    "##### Sell Signal\n",
    "+ Reverse to short whenever the sell count reaches N2\n",
    "+ Fullfillment of condition does not occur until N1 days after the N2th consecutive down run day\n",
    "\n",
    "\n",
    "#### Daily Checklist\n",
    "+ Check whether the trading day N1 days prior to curreny day can be defined as up run day or down run day\n",
    "+ If day is up run day increase buy count by one, if buy count is active and you are currently short, otherwise reset the sell count to zero\n",
    "+ Buy or sell count is always active depending on position\n",
    "+ If day is a down run day increment the sell count by one, otherwise reset buy count to zero\n",
    "+ If buy count is active, check whether it is equal to N2 after step 1. \n",
    "    + If active, cover short, go long, close buy count, activate sell count\n",
    "+ If sell count is active, check whether it is equal to N2 after step 1\n",
    "    + If active, cover long, go short, close sell count, activate buy count\n",
    "    \n",
    "#### Parameters\n",
    "+ N1: param used to define run days\n",
    "+ N2: number of consecutive run days required for a signal\n",
    "\n"
   ]
  },
  {
   "cell_type": "code",
   "execution_count": null,
   "metadata": {},
   "outputs": [],
   "source": [
    "from math import floor\n",
    "import datetime as datetime\n",
    "import quandl as ql\n",
    "import xarray as xr\n",
    "import numpy as np\n",
    "import pandas as pd\n",
    "import matplotlib.pyplot as plt\n",
    "import seaborn as sns\n",
    "\n",
    "from pylab import mpl, plt\n",
    "plt.style.use('seaborn')\n",
    "mpl.rcParams['font.family'] = 'serif'\n",
    "k = 'YgkL6nxrm_SsUs7so2MM'"
   ]
  }
 ],
 "metadata": {
  "kernelspec": {
   "display_name": "Python 3",
   "language": "python",
   "name": "python3"
  },
  "language_info": {
   "codemirror_mode": {
    "name": "ipython",
    "version": 3
   },
   "file_extension": ".py",
   "mimetype": "text/x-python",
   "name": "python",
   "nbconvert_exporter": "python",
   "pygments_lexer": "ipython3",
   "version": "3.8.5"
  }
 },
 "nbformat": 4,
 "nbformat_minor": 4
}
